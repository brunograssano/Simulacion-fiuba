{
 "cells": [
  {
   "cell_type": "code",
   "execution_count": null,
   "metadata": {},
   "outputs": [],
   "source": [
    "import math\n",
    "\n",
    "import matplotlib.pyplot as plt\n",
    "import numpy as np\n",
    "import pandas as pd\n",
    "import seaborn as sns\n",
    "from IPython.display import display\n",
    "from ipywidgets import FloatLogSlider, FloatSlider, interactive, Dropdown\n",
    "from tqdm.notebook import tqdm\n",
    "\n",
    "from generators import GCL, LXM\n",
    "\n",
    "import simpy\n",
    "import scipy\n",
    "\n",
    "sns.set() "
   ]
  },
  {
   "cell_type": "markdown",
   "metadata": {},
   "source": [
    "# Trabajo Práctico N°2\n",
    "El presente trabajo práctico fue realizado por los alumnos:\n",
    "* Anarella Nicoletta (Padrón 94551)\n",
    "* Bruno Grassano (Padrón 103855)\n",
    "* Ignacio Javier Mermet (Padrón 98153)\n",
    "* Joaquin Gomez (Padrón 103735)"
   ]
  },
  {
   "cell_type": "markdown",
   "metadata": {},
   "source": [
    "## Ejercicio 1\n",
    "Basándose en los trabajos\n",
    "* Performance Modelling of Imaging Service or Earth Observation Satellites with Two-dimensional Markov Chain\n",
    "* Queuing theory application in imaging service analysis for small Earth observation satellites\n",
    "\n",
    "Se pide implementar las soluciones propuestas por los autores utilizando Cadenas de Markov, y Teoría de Colas, \n",
    "considerando:\n",
    "1. Utilizar el generador de números al azar implementado en el Trabajo Práctico 1 para generar los números al azar utilizados en el ejercicio (comparar los resultados con los obtenidos si se utilizan los números al azar provistos por el lenguaje elegido)\n",
    "2. Probar distintos escenarios\n",
    "3. Opcional Comparar los resultados obtenidos, con los resultados que se obtendrían con un Generador Congruencial Lineal de módulo 2 32, multiplicador 1013904223, incremento de 1664525 y semilla igual a la parte entera del promedio de los números de padrón de los integrantes del grupo\n"
   ]
  },
  {
   "cell_type": "markdown",
   "metadata": {},
   "source": [
    "Definimos el modelo"
   ]
  },
  {
   "cell_type": "code",
   "execution_count": null,
   "metadata": {},
   "outputs": [],
   "source": [
    "class Satellite:\n",
    "    def __init__(self, C=math.inf, K=4, μd=5, μ0=0.5, λ=2, generator = LXM()):\n",
    "        \"\"\"Args:\n",
    "            C: Capture queue length limit.\n",
    "            K: onboard storage capacity.\n",
    "            μd: The download service time of an image is assumed exponentially\n",
    "                distributed with mean 1/μ_d.\n",
    "            μ0: The basic image capture service time is exponentially distributed\n",
    "                with mean 1/μ_0\n",
    "            λ: Arrival rate of new requests.\n",
    "        \"\"\"\n",
    "        self.K = K\n",
    "        self.C = C\n",
    "        self.μd = μd\n",
    "        self.μ0 = μ0\n",
    "        self.λ = λ\n",
    "        self.n = 0\n",
    "        self.m = 0\n",
    "        self.gen = generator\n",
    "\n",
    "    @property\n",
    "    def onboard_storage_capacity(self):\n",
    "        return self.K\n",
    "\n",
    "    @property\n",
    "    def images_on_onboard_storage(self):\n",
    "        return self.m\n",
    "\n",
    "    @property\n",
    "    def pending_requests(self):\n",
    "        return self.n\n",
    "\n",
    "    def transition(self):\n",
    "        ps = []\n",
    "        nexts = []\n",
    "        if 0 <= self.n < self.C and 0 <= self.m <= self.K:\n",
    "            ps.append(self.λ)\n",
    "            nexts.append((self.n + 1, self.m))\n",
    "        if 0 < self.n <= self.C and 0 <= self.m < self.K:\n",
    "            ps.append(self.n * self.μ0)\n",
    "            nexts.append((self.n - 1, self.m + 1))\n",
    "        if 0 <= self.n <= self.C and 0 < self.m <= self.K:\n",
    "            ps.append(self.μd)\n",
    "            nexts.append((self.n, self.m - 1))\n",
    "\n",
    "        ps = np.array(ps)\n",
    "        p = self.gen.generar() * ps.sum()\n",
    "        try:\n",
    "            self.n, self.m = nexts[np.digitize(p, np.cumsum(ps))]\n",
    "        except:\n",
    "            print(f\"nexts={nexts} ps={ps} p={p} ps.cumsum()={ps.cumsum()} n={self.n} m={self.m}\")\n",
    "            raise"
   ]
  },
  {
   "cell_type": "code",
   "execution_count": null,
   "metadata": {},
   "outputs": [],
   "source": [
    "def explore_config(λ, μd, μ0, K, gen, n=100_000,):\n",
    "    s = Satellite(λ=λ, μd=μd, μ0=μ0, K=K, generator = gen)\n",
    "\n",
    "    history_images_on_board_storage = []\n",
    "    history_pending_requests = []\n",
    "    position_history = []\n",
    "\n",
    "    for _ in tqdm(range(int(n))):\n",
    "        history_images_on_board_storage.append(s.images_on_onboard_storage)\n",
    "        history_pending_requests.append(s.pending_requests)\n",
    "        position_history.append((s.n, s.m))\n",
    "\n",
    "        s.transition()\n",
    "\n",
    "    d1 = pd.Series(history_images_on_board_storage).value_counts().sort_index() / n\n",
    "    d2 = pd.Series(history_pending_requests).value_counts().sort_index() / n\n",
    "\n",
    "    f, (ax0, ax1, ax2) = plt.subplots(\n",
    "        nrows=1,\n",
    "        ncols=3,\n",
    "        dpi=100,\n",
    "        figsize=(24, 8),\n",
    "        gridspec_kw={\"width_ratios\": [1, 1, 2]},\n",
    "    )\n",
    "\n",
    "    sns.lineplot(x=d1.index, y=d1.values, ax=ax0, linestyle=\"--\")\n",
    "    sns.scatterplot(x=d1.index, y=d1.values, ax=ax0, linestyle=\"--\")\n",
    "    ax0.set_title(\"Images on board\")\n",
    "    ax0.set_ylabel(\"# times\")\n",
    "    ax0.set_xlabel(\"# images on board\")\n",
    "\n",
    "    sns.lineplot(x=d2.index, y=d2.values, ax=ax1, linestyle=\"--\")\n",
    "    sns.scatterplot(x=d2.index, y=d2.values, ax=ax1, linestyle=\"--\")\n",
    "    ax1.set_title(\"Pending requests\")\n",
    "    ax1.set_ylabel(\"# times\")\n",
    "    ax1.set_xlabel(\"# pending requests\")\n",
    "\n",
    "    m = (\n",
    "        pd.DataFrame(\n",
    "            {\n",
    "                \"n\": [x[0] for x in position_history],\n",
    "                \"m\": [x[1] for x in position_history],\n",
    "            }\n",
    "        )\n",
    "        .assign(v=1)\n",
    "        .pivot_table(index=\"n\", columns=\"m\", values=\"v\", aggfunc=\"sum\", fill_value=0)\n",
    "        / n\n",
    "    )\n",
    "    sns.heatmap(m, ax=ax2, square=False, fmt=\".4f\", annot=True)\n",
    "    ax2.set_title(\"Steady point probabilities\")\n",
    "\n",
    "    f.suptitle(f\"N={n}  $\\lambda$={λ}  $\\mu_d$={μd}  $\\mu_0$={μ0}  K={K}  gen={type(gen).__name__}\")\n",
    "\n",
    "    plt.show()"
   ]
  },
  {
   "cell_type": "code",
   "execution_count": null,
   "metadata": {},
   "outputs": [],
   "source": [
    "inter = interactive(\n",
    "    explore_config,\n",
    "    {'manual': True},\n",
    "    λ=FloatSlider(value=2, min=0.1, max=10, step=0.1, description=\"$\\lambda$\"),\n",
    "    μd=FloatSlider(value=5, min=0.01, max=10, step=0.01, description=\"$\\mu_d$\"),\n",
    "    μ0=FloatSlider(value=0.5, min=0.01, max=10, step=0.01, description=\"$\\mu_0$\"),\n",
    "    K=FloatSlider(value=4, min=1, max=10, step=1, description=\"$K$\"),\n",
    "    gen=Dropdown(options=[(\"LXM\", LXM()), (\"GCL\", GCL())], index=0, description=\"Generator to use\"),\n",
    "    n=FloatLogSlider(value=10_000, base=10, min=2, max=8, step=1, description=\"Iterations\", readout_format=\"d\"),\n",
    ")\n",
    "display(inter)"
   ]
  },
  {
   "cell_type": "markdown",
   "metadata": {},
   "source": [
    "## Ejercicio 2\n",
    "Utilizar Simpy para simular una sección del ejercicio 1 a elección"
   ]
  },
  {
   "cell_type": "markdown",
   "metadata": {},
   "source": [
    "Vamos a necesitar generar valores exponenciales, los obtenemos con la transformada inversa."
   ]
  },
  {
   "cell_type": "code",
   "execution_count": null,
   "metadata": {},
   "outputs": [],
   "source": [
    "def exponencial(lambdaArgumento, generador):\n",
    "    uniforme = generador.generar()\n",
    "    return - np.log(1 - uniforme) / lambdaArgumento"
   ]
  },
  {
   "cell_type": "markdown",
   "metadata": {},
   "source": [
    "Definimos el modelo del satelite y la solicitud."
   ]
  },
  {
   "cell_type": "code",
   "execution_count": null,
   "metadata": {},
   "outputs": [],
   "source": [
    "class Satelite:\n",
    "    def __init__(self, env, servicioDescarga, lambdaArgumento, generador):\n",
    "        self.env = env\n",
    "        self.lambdaArgumento = lambdaArgumento\n",
    "        self.generador = generador\n",
    "        self.servicioDescarga = servicioDescarga\n",
    "        self.largoColaEnTiempo = []\n",
    "        self.tiemposDeServicio = []\n",
    "        self.tiemposDeServicioAfectadosPorLaCola = []\n",
    "        self.tiempoEntreArribos = []\n",
    "        self.tiemposAcumulados = []\n",
    "\n",
    "    def atencion(self, id):\n",
    "        tiempoAtencion = exponencial(self.lambdaArgumento, self.generador)\n",
    "        servicio = self.servicioDescarga.request()\n",
    "        yield servicio\n",
    "\n",
    "        N = 1\n",
    "        largoCola = len(self.servicioDescarga.queue)\n",
    "\n",
    "        if largoCola != 0:\n",
    "            N = largoCola\n",
    "        tiempoServicio = tiempoAtencion / N\n",
    "\n",
    "        self.largoColaEnTiempo.append(largoCola)\n",
    "        self.tiemposDeServicio.append(tiempoAtencion)\n",
    "        self.tiemposDeServicioAfectadosPorLaCola.append(tiempoServicio)\n",
    "\n",
    "        yield env.timeout(tiempoServicio)\n",
    "        self.servicioDescarga.release(servicio)\n",
    "\n",
    "class Solicitud:\n",
    "    def __init__(self, env, satelite, id):\n",
    "        self.env = env\n",
    "        self.satelite = satelite\n",
    "        self.id = id\n",
    "\n",
    "    def tratarse(self):\n",
    "        return self.satelite.atencion(self.id)"
   ]
  },
  {
   "cell_type": "markdown",
   "metadata": {},
   "source": [
    "Creamos la funcion que se va a encargar de generar las solicitudes. Estas son nuevos procesos que van a intentar usar el servicio del satelite.\n",
    "\n",
    "A medida que van llegando de avanza el tiempo del ambiente."
   ]
  },
  {
   "cell_type": "code",
   "execution_count": null,
   "metadata": {},
   "outputs": [],
   "source": [
    "def generarArribos(lambdaArgumento, generador, cantidadArribos, env, satelite):\n",
    "    tiempoAcumulado = 0\n",
    "    id = 0\n",
    "    while (id < cantidadArribos):\n",
    "        tiempo = exponencial(lambdaArgumento, generador)\n",
    "        nuevaSolicitud = Solicitud(env, satelite, id)\n",
    "        id = 1 + id\n",
    "        env.process(nuevaSolicitud.tratarse())\n",
    "        yield env.timeout(tiempo)\n",
    "\n",
    "        tiempoAcumulado += tiempo\n",
    "        satelite.tiemposAcumulados.append(tiempoAcumulado)\n",
    "        satelite.tiempoEntreArribos.append(tiempo)"
   ]
  },
  {
   "cell_type": "markdown",
   "metadata": {},
   "source": [
    "Establecemos las configuraciones iniciales y ya podemos simular..."
   ]
  },
  {
   "cell_type": "code",
   "execution_count": null,
   "metadata": {},
   "outputs": [],
   "source": [
    "env = simpy.Environment()\n",
    "def explorarSimulacion(lambdaArribos, lambdaServicio, generador, cantidadArribos=100_000):\n",
    "    servicioDescarga = simpy.Resource(env, capacity=1)\n",
    "    satelite = Satelite(env,servicioDescarga,lambdaServicio,generador)\n",
    "\n",
    "    env.process(generarArribos(lambdaArribos, generador, cantidadArribos, env, satelite))\n",
    "\n",
    "    env.run()\n",
    "\n",
    "    f, axis = plt.subplots(\n",
    "        nrows=2,\n",
    "        ncols=3,\n",
    "        dpi=100,\n",
    "        figsize=(24, 8),\n",
    "        gridspec_kw={\"width_ratios\": [1, 1, 2]},\n",
    "    )\n",
    "\n",
    "    axis[0,0].set_title(\"Densidad del tiempo entre arribos\")\n",
    "    p = sns.kdeplot(satelite.tiempoEntreArribos,cut=0,ax=axis[0,0])\n",
    "\n",
    "\n",
    "    axis[0,1].step(satelite.tiemposAcumulados,range(len(satelite.tiemposAcumulados)),where= 'post' ,label='λ=' + str(lambdaArribos))\n",
    "    axis[0,1].legend()\n",
    "    axis[0,1].set_title(\"Arribos a lo largo del tiempo - Poisson\")\n",
    "\n",
    "\n",
    "    axis[0,2].set_title(\"Comportamiento del largo de la cola\")\n",
    "    p = sns.kdeplot(satelite.largoColaEnTiempo,cut=0,ax=axis[0,2])\n",
    "\n",
    "    x,y = p.get_lines()[0].get_data()\n",
    "\n",
    "    cdf = scipy.integrate.cumtrapz(y, x, initial=0)\n",
    "    medio = np.abs(cdf-0.5).argmin()\n",
    "\n",
    "    x_mediana = x[medio]\n",
    "    y_mediana = y[medio]\n",
    "\n",
    "    axis[0,2].vlines(x_mediana, 0, y_mediana)\n",
    "    axis[0,2].set_title(\"Comportamiento del largo de la cola\")\n",
    "    axis[0,2].set_xlabel(\"Largo de la cola\")\n",
    "    axis[0,2].set_ylabel(\"Probabilidad\")\n",
    "\n",
    "    axis[1,0].set_title(\"Densidad del tiempo de servicio\")\n",
    "    p = sns.kdeplot(satelite.tiemposDeServicio,cut=0, ax=axis[1,0])\n",
    "\n",
    "\n",
    "    axis[1,1].set_title(\"Densidad del tiempo de servicio afectada por la cola\")\n",
    "    p = sns.kdeplot(satelite.tiemposDeServicioAfectadosPorLaCola,cut=0,ax=axis[1,1])\n",
    "\n",
    "    f.suptitle(f\"N={cantidadArribos}  $\\lambda$ arribos={lambdaArribos}  $\\lambda$ servicio={lambdaServicio}\")\n",
    "\n",
    "    plt.show()"
   ]
  },
  {
   "cell_type": "code",
   "execution_count": null,
   "metadata": {},
   "outputs": [],
   "source": [
    "interSimulacion = interactive(\n",
    "    explorarSimulacion,\n",
    "    {'manual': True},\n",
    "    lambdaArribos=FloatSlider(value=2, min=0.1, max=20, step=0.1, description=\"λ Arribos\"),\n",
    "    lambdaServicio=FloatSlider(value=0.5, min=0.1, max=40, step=0.1, description=\"λ Servicio\"),\n",
    "    cantidadArribos=FloatLogSlider(value=1_000, base=10, min=2, max=8, step=1, description=\"Solicitudes\", readout_format=\"d\"),\n",
    "    generador=Dropdown(options=[(\"LXM\", LXM()), (\"GCL\", GCL())], index=0, description=\"Generador\"),\n",
    ")\n",
    "display(interSimulacion)"
   ]
  },
  {
   "cell_type": "markdown",
   "metadata": {},
   "source": [
    "## Ejercicio 3"
   ]
  },
  {
   "cell_type": "markdown",
   "metadata": {},
   "source": [
    "![Screenshot from 2022-06-04 16-28-23.png](attachment:98c2fa5a-13ac-43e1-af60-8d111f60da42.png)"
   ]
  },
  {
   "cell_type": "markdown",
   "metadata": {},
   "source": [
    "### Matriz de transición de estados"
   ]
  },
  {
   "cell_type": "markdown",
   "metadata": {},
   "source": [
    "Para resolver este ejercicio vamos a definir 2 eventos independientes entre sí:\n",
    "\n",
    "    A: arriba al sistema una nueva solicitud\n",
    "    E: una solicitud es procesada y egresa del sistema\n",
    "\n",
    "Esto nos permitirá descomponer a los estados del servidor dependiendo de cuántas solicitudes se estén procesando. La matriz de transición de estados quedaría entonces:"
   ]
  },
  {
   "cell_type": "markdown",
   "metadata": {},
   "source": [
    "    M = | P0->0   P0->1   P0->2   P0->3  P0->4  ... |\n",
    "        | P1->0   P1->1   P1->2   P1->3  P1->4  ... |\n",
    "        | P2->0   P2->1   P2->2   P2->3  P2->4  ... |\n",
    "        |  ...     ...     ...     ...    ...   ... |"
   ]
  },
  {
   "cell_type": "markdown",
   "metadata": {},
   "source": [
    "Sabemos que:\n",
    "\n",
    "    P(A) = p = 1/40\n",
    "    P(E) = q = 1/30\n",
    "    r = P(~A) = 1-P(A) = 1-1/40 = 39/40\n",
    "    s = P(~E) = 1-P(E) = 1-1/30 = 29/30\n",
    "\n",
    "Si hay solicitudes pendientes:\n",
    "- La probabilidad que en el próximo estado haya una solicitud **menos** es r*q\n",
    "- La probabilidad que en el próximo estado haya una solicitud **más** es p*s\n",
    "- La probabilidad de quedar **igual** es r*s+p*q\n",
    "\n",
    "Si no hay solicitudes pendientes:\n",
    "- La probabilidad que en el próximo estado haya una solicitud **más** es p\n",
    "- La probabilidad de quedar **igual** es r"
   ]
  },
  {
   "cell_type": "markdown",
   "metadata": {},
   "source": [
    "Entonces, podemos reescribir la matriz de transición de estados como:\n",
    "    \n",
    "    M = |   r       p       0       0      0    ... |\n",
    "        |  r*q   r*s+p*q   p*s      0      0    ... |\n",
    "        |   0      r*q    r*s+p*q  p*s     0    ... |\n",
    "        |  ...     ...     ...     ...    ...   ... |"
   ]
  },
  {
   "cell_type": "markdown",
   "metadata": {},
   "source": [
    "### Simulación con 1.000 segundos suponiendo que no hay solicitudes por procesar al comienzo"
   ]
  },
  {
   "cell_type": "code",
   "execution_count": null,
   "metadata": {},
   "outputs": [],
   "source": [
    "N = 1000000  # 1.000 segundos en intervalos de 10 milisegundos\n",
    "\n",
    "solicitudes_en_proceso = 0\n",
    "estados = []\n",
    "for i in range(N):\n",
    "    # Agrego estado a log\n",
    "    estados.append(solicitudes_en_proceso)\n",
    "\n",
    "    # probabilidad de terminar una solicitud en proceso\n",
    "    if solicitudes_en_proceso > 0 and np.random.rand() < 1.0/30:\n",
    "        solicitudes_en_proceso = solicitudes_en_proceso - 1\n",
    "\n",
    "    # probabilidad de que ingrese una solicitud nueva\n",
    "    if np.random.rand() < 1.0/40:\n",
    "        solicitudes_en_proceso = solicitudes_en_proceso + 1"
   ]
  },
  {
   "cell_type": "markdown",
   "metadata": {},
   "source": [
    "Procedemos a graficar la cantidad de solicitudes en el servidor en función del tiempo."
   ]
  },
  {
   "cell_type": "code",
   "execution_count": null,
   "metadata": {},
   "outputs": [],
   "source": [
    "plt.figure(figsize=(20, 8), dpi=80)\n",
    "plt.title('Cantidad de solicitudes en proceso en el servidor en función del tiempo'.format(N), size=20)\n",
    "plt.xlabel('Tiempo')\n",
    "plt.ylabel('Cantidad de solicitudes en proceso')\n",
    "plt.plot(estados, linewidth=1.0)\n",
    "plt.show()"
   ]
  },
  {
   "cell_type": "code",
   "execution_count": null,
   "metadata": {},
   "outputs": [],
   "source": [
    "plt.figure(figsize=(20, 20), dpi=80)\n",
    "plt.title('Cantidad de ocurrencias de cada estado'.format(N), size=20)\n",
    "plt.xlabel('Estado')\n",
    "plt.ylabel('Cantidad de ocurrencias')\n",
    "plt.hist(estados, bins='sturges', linewidth=1.0, )\n",
    "plt.show()"
   ]
  },
  {
   "cell_type": "markdown",
   "metadata": {},
   "source": [
    "Procedemos ahora a analizar el tiempo ocioso del servidor, es decir, el porcentaje de tiempo durante el cual no está procesando solicitudes."
   ]
  },
  {
   "cell_type": "code",
   "execution_count": null,
   "metadata": {},
   "outputs": [],
   "source": [
    "tiempo_sin_procesar_solicitudes = len(list(filter(lambda x: x == 0, estados))) / len(estados) * 100\n",
    "'El porcentaje de tiempo que el sistema pasa sin procesar solicitudes es {:.3f} %'.format(\n",
    "    tiempo_sin_procesar_solicitudes)"
   ]
  },
  {
   "cell_type": "markdown",
   "metadata": {},
   "source": [
    "Si revisamos desde la teoría de colas, el modelo corresponde con un M/M/1 donde $\\lambda=\\frac{1}{40}$ y $\\mu=\\frac{1}{30}$.\n",
    "\n",
    "Lo pedido corresponde con $P(0)$, donde podemos usar que $P(0) = 1 - \\rho = 1 - \\frac{1/40}{1/30} = 0,25$, viendo asi que lo practico se acerca a lo teórico.\n"
   ]
  }
 ],
 "metadata": {
  "kernelspec": {
   "display_name": "Python 3.9.7 ('base')",
   "language": "python",
   "name": "python3"
  },
  "language_info": {
   "codemirror_mode": {
    "name": "ipython",
    "version": 3
   },
   "file_extension": ".py",
   "mimetype": "text/x-python",
   "name": "python",
   "nbconvert_exporter": "python",
   "pygments_lexer": "ipython3",
   "version": "3.9.7"
  },
  "orig_nbformat": 4,
  "vscode": {
   "interpreter": {
    "hash": "59b23a439ce858f6c48b87cdc3961c05fe34c6c004d414990b7e953144d53d79"
   }
  }
 },
 "nbformat": 4,
 "nbformat_minor": 2
}
