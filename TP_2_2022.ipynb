{
 "cells": [
  {
   "cell_type": "code",
   "execution_count": 1,
   "metadata": {
    "slideshow": {
     "slide_type": "skip"
    },
    "tags": []
   },
   "outputs": [],
   "source": [
    "import math\n",
    "\n",
    "import matplotlib.pyplot as plt\n",
    "import numpy as np\n",
    "import pandas as pd\n",
    "import seaborn as sns\n",
    "from IPython.display import display\n",
    "from ipywidgets import FloatLogSlider, FloatSlider, interactive, Dropdown\n",
    "from tqdm.notebook import tqdm\n",
    "\n",
    "from generators import GCL, LXM\n",
    "\n",
    "import simpy\n",
    "import scipy\n",
    "\n",
    "sns.set() "
   ]
  },
  {
   "cell_type": "markdown",
   "metadata": {
    "slideshow": {
     "slide_type": "slide"
    },
    "tags": []
   },
   "source": [
    "# Trabajo Práctico N°2\n",
    "El presente trabajo práctico fue realizado por los alumnos:\n",
    "* Anarella Nicoletta (Padrón 94551)\n",
    "* Bruno Grassano (Padrón 103855)\n",
    "* Ignacio Javier Mermet (Padrón 98153)\n",
    "* Joaquin Gomez (Padrón 103735)"
   ]
  },
  {
   "cell_type": "markdown",
   "metadata": {
    "slideshow": {
     "slide_type": "slide"
    },
    "tags": []
   },
   "source": [
    "## Ejercicio 1\n",
    "Basándose en los trabajos\n",
    "* Performance Modelling of Imaging Service or Earth Observation Satellites with Two-dimensional Markov Chain\n",
    "* Queuing theory application in imaging service analysis for small Earth observation satellites"
   ]
  },
  {
   "cell_type": "markdown",
   "metadata": {
    "slideshow": {
     "slide_type": "fragment"
    },
    "tags": []
   },
   "source": [
    "Se pide implementar las soluciones propuestas por los autores utilizando Cadenas de Markov, y Teoría de Colas, \n",
    "considerando:\n",
    "1. Utilizar el generador de números al azar implementado en el Trabajo Práctico 1 para generar los números al azar utilizados en el ejercicio (comparar los resultados con los obtenidos si se utilizan los números al azar provistos por el lenguaje elegido)\n",
    "2. Probar distintos escenarios\n",
    "3. Opcional Comparar los resultados obtenidos, con los resultados que se obtendrían con un Generador Congruencial Lineal de módulo 2 32, multiplicador 1013904223, incremento de 1664525 y semilla igual a la parte entera del promedio de los números de padrón de los integrantes del grupo"
   ]
  },
  {
   "cell_type": "markdown",
   "metadata": {
    "slideshow": {
     "slide_type": "subslide"
    },
    "tags": []
   },
   "source": [
    "<img src=\"images/cadena_markov.png\"></img>"
   ]
  },
  {
   "cell_type": "markdown",
   "metadata": {
    "slideshow": {
     "slide_type": "subslide"
    },
    "tags": []
   },
   "source": [
    "```python\n",
    "class Satellite:\n",
    "    def __init__(self, C=math.inf, K=4, μd=5, μ0=0.5, λ=2, generator = LXM()):\n",
    "        \"\"\"Args:\n",
    "            C: Capture queue length limit.\n",
    "            K: onboard storage capacity.\n",
    "            μd: The download service time of an image is assumed exponentially distributed with mean 1/μ_d.\n",
    "            μ0: The basic image capture service time is exponentially distributed with mean 1/μ_0\n",
    "            λ: Arrival rate of new requests.\n",
    "        \"\"\"\n",
    "```"
   ]
  },
  {
   "cell_type": "markdown",
   "metadata": {
    "slideshow": {
     "slide_type": "subslide"
    },
    "tags": []
   },
   "source": [
    "```python\n",
    "    @property\n",
    "    def onboard_storage_capacity(self):\n",
    "        return self.K\n",
    "```"
   ]
  },
  {
   "cell_type": "markdown",
   "metadata": {
    "slideshow": {
     "slide_type": "fragment"
    },
    "tags": []
   },
   "source": [
    "```python\n",
    "    @property\n",
    "    def images_on_onboard_storage(self):\n",
    "        return self.m\n",
    "```"
   ]
  },
  {
   "cell_type": "markdown",
   "metadata": {
    "slideshow": {
     "slide_type": "fragment"
    },
    "tags": []
   },
   "source": [
    "```python\n",
    "    @property\n",
    "    def pending_requests(self):\n",
    "        return self.n\n",
    "\n",
    "```"
   ]
  },
  {
   "cell_type": "markdown",
   "metadata": {
    "slideshow": {
     "slide_type": "subslide"
    },
    "tags": []
   },
   "source": [
    "```python\n",
    "    def transition(self):\n",
    "        ps = []\n",
    "        nexts = []\n",
    "        if 0 <= self.n < self.C and 0 <= self.m <= self.K:\n",
    "            ps.append(self.λ)\n",
    "            nexts.append((self.n + 1, self.m))\n",
    "        if 0 < self.n <= self.C and 0 <= self.m < self.K:\n",
    "            ps.append(self.n * self.μ0)\n",
    "            nexts.append((self.n - 1, self.m + 1))\n",
    "        if 0 <= self.n <= self.C and 0 < self.m <= self.K:\n",
    "            ps.append(self.μd)\n",
    "            nexts.append((self.n, self.m - 1))\n",
    "\n",
    "        ps = np.array(ps)\n",
    "        p = self.gen.generar() * ps.sum()\n",
    "        try:\n",
    "            self.n, self.m = nexts[np.digitize(p, np.cumsum(ps))]\n",
    "        except:\n",
    "            print(f\"nexts={nexts} ps={ps} p={p} ps.cumsum()={ps.cumsum()} n={self.n} m={self.m}\")\n",
    "            raise\n",
    "```"
   ]
  },
  {
   "cell_type": "code",
   "execution_count": 2,
   "metadata": {
    "slideshow": {
     "slide_type": "skip"
    },
    "tags": []
   },
   "outputs": [],
   "source": [
    "class Satellite:\n",
    "    def __init__(self, C=math.inf, K=4, μd=5, μ0=0.5, λ=2, generator = LXM()):\n",
    "        \"\"\"Args:\n",
    "            C: Capture queue length limit.\n",
    "            K: onboard storage capacity.\n",
    "            μd: The download service time of an image is assumed exponentially\n",
    "                distributed with mean 1/μ_d.\n",
    "            μ0: The basic image capture service time is exponentially distributed\n",
    "                with mean 1/μ_0\n",
    "            λ: Arrival rate of new requests.\n",
    "        \"\"\"\n",
    "        self.K = K\n",
    "        self.C = C\n",
    "        self.μd = μd\n",
    "        self.μ0 = μ0\n",
    "        self.λ = λ\n",
    "        self.n = 0\n",
    "        self.m = 0\n",
    "        self.gen = generator\n",
    "\n",
    "    @property\n",
    "    def onboard_storage_capacity(self):\n",
    "        return self.K\n",
    "\n",
    "    @property\n",
    "    def images_on_onboard_storage(self):\n",
    "        return self.m\n",
    "\n",
    "    @property\n",
    "    def pending_requests(self):\n",
    "        return self.n\n",
    "\n",
    "    def transition(self):\n",
    "        ps = []\n",
    "        nexts = []\n",
    "        if 0 <= self.n < self.C and 0 <= self.m <= self.K:\n",
    "            ps.append(self.λ)\n",
    "            nexts.append((self.n + 1, self.m))\n",
    "        if 0 < self.n <= self.C and 0 <= self.m < self.K:\n",
    "            ps.append(self.n * self.μ0)\n",
    "            nexts.append((self.n - 1, self.m + 1))\n",
    "        if 0 <= self.n <= self.C and 0 < self.m <= self.K:\n",
    "            ps.append(self.μd)\n",
    "            nexts.append((self.n, self.m - 1))\n",
    "\n",
    "        ps = np.array(ps)\n",
    "        p = self.gen.generar() * ps.sum()\n",
    "        try:\n",
    "            self.n, self.m = nexts[np.digitize(p, np.cumsum(ps))]\n",
    "        except:\n",
    "            print(f\"nexts={nexts} ps={ps} p={p} ps.cumsum()={ps.cumsum()} n={self.n} m={self.m}\")\n",
    "            raise"
   ]
  },
  {
   "cell_type": "code",
   "execution_count": 3,
   "metadata": {
    "slideshow": {
     "slide_type": "skip"
    },
    "tags": []
   },
   "outputs": [],
   "source": [
    "def explore_config(λ, μd, μ0, K, gen, n=100_000,):\n",
    "    s = Satellite(λ=λ, μd=μd, μ0=μ0, K=K, generator = gen)\n",
    "\n",
    "    history_images_on_board_storage = []\n",
    "    history_pending_requests = []\n",
    "    position_history = []\n",
    "\n",
    "    for _ in tqdm(range(int(n))):\n",
    "        history_images_on_board_storage.append(s.images_on_onboard_storage)\n",
    "        history_pending_requests.append(s.pending_requests)\n",
    "        position_history.append((s.n, s.m))\n",
    "\n",
    "        s.transition()\n",
    "\n",
    "    d1 = pd.Series(history_images_on_board_storage).value_counts().sort_index() / n\n",
    "    d2 = pd.Series(history_pending_requests).value_counts().sort_index() / n\n",
    "\n",
    "    f, (ax0, ax1, ax2) = plt.subplots(\n",
    "        nrows=1,\n",
    "        ncols=3,dpi=110,\n",
    "        figsize=(18, 6),\n",
    "        gridspec_kw={\"width_ratios\": [1, 1, 2]},\n",
    "    )\n",
    "\n",
    "    sns.lineplot(x=d1.index, y=d1.values, ax=ax0, linestyle=\"--\")\n",
    "    sns.scatterplot(x=d1.index, y=d1.values, ax=ax0, linestyle=\"--\")\n",
    "    ax0.set_title(\"Images on board\")\n",
    "    ax0.set_ylabel(\"# times\")\n",
    "    ax0.set_xlabel(\"# images on board\")\n",
    "\n",
    "    sns.lineplot(x=d2.index, y=d2.values, ax=ax1, linestyle=\"--\")\n",
    "    sns.scatterplot(x=d2.index, y=d2.values, ax=ax1, linestyle=\"--\")\n",
    "    ax1.set_title(\"Pending requests\")\n",
    "    ax1.set_ylabel(\"# times\")\n",
    "    ax1.set_xlabel(\"# pending requests\")\n",
    "\n",
    "    m = (\n",
    "        pd.DataFrame(\n",
    "            {\n",
    "                \"n\": [x[0] for x in position_history],\n",
    "                \"m\": [x[1] for x in position_history],\n",
    "            }\n",
    "        )\n",
    "        .assign(v=1)\n",
    "        .pivot_table(index=\"n\", columns=\"m\", values=\"v\", aggfunc=\"sum\", fill_value=0)\n",
    "        / n\n",
    "    )\n",
    "    sns.heatmap(m, ax=ax2, square=False, fmt=\".4f\", annot=True)\n",
    "    ax2.set_title(\"Steady point probabilities\")\n",
    "\n",
    "    f.suptitle(f\"N={n}  $\\lambda$={λ}  $\\mu_d$={μd}  $\\mu_0$={μ0}  K={K}  gen={type(gen).__name__}\")\n",
    "\n",
    "    plt.show()"
   ]
  },
  {
   "cell_type": "code",
   "execution_count": 4,
   "metadata": {
    "slideshow": {
     "slide_type": "skip"
    },
    "tags": []
   },
   "outputs": [],
   "source": [
    "λ_slider = FloatSlider(value=2, min=0.05, max=10, step=0.1, description=\"$\\lambda$\")\n",
    "μd_slider=FloatSlider(value=5, min=0.01, max=10, step=0.01, description=\"$\\mu_d$\")\n",
    "μ0_slider=FloatSlider(value=0.5, min=0.01, max=10, step=0.01, description=\"$\\mu_0$\")\n",
    "K_slider=FloatSlider(value=4, min=1, max=10, step=1, description=\"$K$\")\n",
    "gen_dd=Dropdown(options=[(\"LXM\", LXM()), (\"GCL\", GCL())], index=0, description=\"Generator to use\")\n",
    "n_slider=FloatLogSlider(value=10_000, base=10, min=2, max=8, step=1, description=\"Iterations\", readout_format=\"d\")"
   ]
  },
  {
   "cell_type": "code",
   "execution_count": 5,
   "metadata": {
    "slideshow": {
     "slide_type": "skip"
    },
    "tags": []
   },
   "outputs": [
    {
     "data": {
      "application/vnd.jupyter.widget-view+json": {
       "model_id": "f7a7d4b181944687bb9e382bdce776e7",
       "version_major": 2,
       "version_minor": 0
      },
      "text/plain": [
       "interactive(children=(FloatSlider(value=2.0, description='$\\\\lambda$', max=10.0, min=0.05), FloatSlider(value=…"
      ]
     },
     "metadata": {},
     "output_type": "display_data"
    }
   ],
   "source": [
    "inter = interactive(explore_config,{'manual': True},λ=λ_slider,μd=μd_slider,μ0=μ0_slider,K=K_slider,gen=gen_dd,n=n_slider)\n",
    "display(inter)"
   ]
  },
  {
   "cell_type": "markdown",
   "metadata": {
    "slideshow": {
     "slide_type": "subslide"
    },
    "tags": []
   },
   "source": [
    "<img src=\"./images/fig1.png\"></img>"
   ]
  },
  {
   "cell_type": "markdown",
   "metadata": {
    "slideshow": {
     "slide_type": "subslide"
    },
    "tags": []
   },
   "source": [
    "<img src=\"./images/fig2.png\"></img>"
   ]
  },
  {
   "cell_type": "markdown",
   "metadata": {
    "slideshow": {
     "slide_type": "subslide"
    },
    "tags": []
   },
   "source": [
    "<img src=\"./images/fig3.png\"></img>"
   ]
  },
  {
   "cell_type": "markdown",
   "metadata": {
    "slideshow": {
     "slide_type": "subslide"
    },
    "tags": []
   },
   "source": [
    "<img src=\"./images/fig4.png\"></img>"
   ]
  },
  {
   "cell_type": "markdown",
   "metadata": {
    "slideshow": {
     "slide_type": "slide"
    },
    "tags": []
   },
   "source": [
    "## Ejercicio 2\n",
    "Utilizar Simpy para simular una sección del ejercicio 1 a elección"
   ]
  },
  {
   "cell_type": "markdown",
   "metadata": {
    "slideshow": {
     "slide_type": "subslide"
    },
    "tags": []
   },
   "source": [
    "Vamos a necesitar generar valores exponenciales, los obtenemos con la transformada inversa."
   ]
  },
  {
   "cell_type": "code",
   "execution_count": 6,
   "metadata": {
    "slideshow": {
     "slide_type": "fragment"
    },
    "tags": []
   },
   "outputs": [],
   "source": [
    "def exponencial(lambdaArgumento, generador):\n",
    "    uniforme = generador.generar()\n",
    "    return - np.log(1 - uniforme) / lambdaArgumento"
   ]
  },
  {
   "cell_type": "markdown",
   "metadata": {
    "slideshow": {
     "slide_type": "subslide"
    },
    "tags": []
   },
   "source": [
    "Definimos el modelo del satelite y la solicitud."
   ]
  },
  {
   "cell_type": "markdown",
   "metadata": {
    "slideshow": {
     "slide_type": "fragment"
    },
    "tags": []
   },
   "source": [
    "```python\n",
    "class Satelite:\n",
    "    def __init__(self, env, servicioDescarga, lambdaArgumento, generador):\n",
    "        self.env = env\n",
    "        self.lambdaArgumento = lambdaArgumento\n",
    "        self.generador = generador\n",
    "        self.servicioDescarga = servicioDescarga\n",
    "        self.largoColaEnTiempo = []\n",
    "        self.tiemposDeServicio = []\n",
    "        self.tiemposDeServicioAfectadosPorLaCola = []\n",
    "        self.tiempoEntreArribos = []\n",
    "        self.tiemposAcumulados = []\n",
    "```"
   ]
  },
  {
   "cell_type": "markdown",
   "metadata": {
    "slideshow": {
     "slide_type": "subslide"
    },
    "tags": []
   },
   "source": [
    "```python\n",
    "    def atencion(self, id):\n",
    "        tiempoAtencion = exponencial(self.lambdaArgumento, self.generador)\n",
    "        servicio = self.servicioDescarga.request()\n",
    "        yield servicio\n",
    "\n",
    "        N = 1\n",
    "        largoCola = len(self.servicioDescarga.queue)\n",
    "\n",
    "        if largoCola != 0:\n",
    "            N = largoCola\n",
    "        tiempoServicio = tiempoAtencion / N\n",
    "\n",
    "        self.largoColaEnTiempo.append(largoCola)\n",
    "        self.tiemposDeServicio.append(tiempoAtencion)\n",
    "        self.tiemposDeServicioAfectadosPorLaCola.append(tiempoServicio)\n",
    "\n",
    "        yield env.timeout(tiempoServicio)\n",
    "        self.servicioDescarga.release(servicio)\n",
    "```"
   ]
  },
  {
   "cell_type": "markdown",
   "metadata": {
    "slideshow": {
     "slide_type": "subslide"
    },
    "tags": []
   },
   "source": [
    "```python\n",
    "class Solicitud:\n",
    "    def __init__(self, env, satelite, id):\n",
    "        self.env = env\n",
    "        self.satelite = satelite\n",
    "        self.id = id\n",
    "\n",
    "    def tratarse(self):\n",
    "        return self.satelite.atencion(self.id)\n",
    "```"
   ]
  },
  {
   "cell_type": "code",
   "execution_count": 7,
   "metadata": {
    "slideshow": {
     "slide_type": "skip"
    },
    "tags": []
   },
   "outputs": [],
   "source": [
    "class Satelite:\n",
    "    def __init__(self, env, servicioDescarga, lambdaArgumento, generador):\n",
    "        self.env = env\n",
    "        self.lambdaArgumento = lambdaArgumento\n",
    "        self.generador = generador\n",
    "        self.servicioDescarga = servicioDescarga\n",
    "        self.largoColaEnTiempo = []\n",
    "        self.tiemposDeServicio = []\n",
    "        self.tiemposDeServicioAfectadosPorLaCola = []\n",
    "        self.tiempoEntreArribos = []\n",
    "        self.tiemposAcumulados = []\n",
    "\n",
    "    def atencion(self, id):\n",
    "        tiempoAtencion = exponencial(self.lambdaArgumento, self.generador)\n",
    "        servicio = self.servicioDescarga.request()\n",
    "        yield servicio\n",
    "\n",
    "        N = 1\n",
    "        largoCola = len(self.servicioDescarga.queue)\n",
    "\n",
    "        if largoCola != 0:\n",
    "            N = largoCola\n",
    "        tiempoServicio = tiempoAtencion / N\n",
    "\n",
    "        self.largoColaEnTiempo.append(largoCola)\n",
    "        self.tiemposDeServicio.append(tiempoAtencion)\n",
    "        self.tiemposDeServicioAfectadosPorLaCola.append(tiempoServicio)\n",
    "\n",
    "        yield env.timeout(tiempoServicio)\n",
    "        self.servicioDescarga.release(servicio)\n",
    "\n",
    "class Solicitud:\n",
    "    def __init__(self, env, satelite, id):\n",
    "        self.env = env\n",
    "        self.satelite = satelite\n",
    "        self.id = id\n",
    "\n",
    "    def tratarse(self):\n",
    "        return self.satelite.atencion(self.id)"
   ]
  },
  {
   "cell_type": "markdown",
   "metadata": {
    "slideshow": {
     "slide_type": "subslide"
    },
    "tags": []
   },
   "source": [
    "Creamos la funcion que se va a encargar de generar las solicitudes. Estas son nuevos procesos que van a intentar usar el servicio del satelite.\n",
    "\n",
    "A medida que van llegando de avanza el tiempo del ambiente."
   ]
  },
  {
   "cell_type": "code",
   "execution_count": 8,
   "metadata": {
    "slideshow": {
     "slide_type": "fragment"
    },
    "tags": []
   },
   "outputs": [],
   "source": [
    "def generarArribos(lambdaArgumento, generador, cantidadArribos, env, satelite):\n",
    "    tiempoAcumulado = 0\n",
    "    id = 0\n",
    "    while (id < cantidadArribos):\n",
    "        tiempo = exponencial(lambdaArgumento, generador)\n",
    "        nuevaSolicitud = Solicitud(env, satelite, id)\n",
    "        id = 1 + id\n",
    "        env.process(nuevaSolicitud.tratarse())\n",
    "        yield env.timeout(tiempo)\n",
    "\n",
    "        tiempoAcumulado += tiempo\n",
    "        satelite.tiemposAcumulados.append(tiempoAcumulado)\n",
    "        satelite.tiempoEntreArribos.append(tiempo)"
   ]
  },
  {
   "cell_type": "markdown",
   "metadata": {
    "slideshow": {
     "slide_type": "subslide"
    },
    "tags": []
   },
   "source": [
    "Establecemos las configuraciones iniciales y ya podemos simular..."
   ]
  },
  {
   "cell_type": "code",
   "execution_count": 9,
   "metadata": {
    "slideshow": {
     "slide_type": "skip"
    },
    "tags": []
   },
   "outputs": [],
   "source": [
    "env = simpy.Environment()\n",
    "def explorarSimulacion(lambdaArribos, lambdaServicio, generador, cantidadArribos=100_000):\n",
    "    servicioDescarga = simpy.Resource(env, capacity=1)\n",
    "    satelite = Satelite(env,servicioDescarga,lambdaServicio,generador)\n",
    "\n",
    "    env.process(generarArribos(lambdaArribos, generador, cantidadArribos, env, satelite))\n",
    "\n",
    "    env.run()\n",
    "\n",
    "    f, axis = plt.subplots(\n",
    "        nrows=2,\n",
    "        ncols=3,\n",
    "        dpi=100,\n",
    "        figsize=(24, 8),\n",
    "        gridspec_kw={\"width_ratios\": [1, 1, 2]},\n",
    "    )\n",
    "\n",
    "    axis[0,0].set_title(\"Densidad del tiempo entre arribos\")\n",
    "    p = sns.kdeplot(satelite.tiempoEntreArribos,cut=0,ax=axis[0,0])\n",
    "\n",
    "\n",
    "    axis[0,1].step(satelite.tiemposAcumulados,range(len(satelite.tiemposAcumulados)),where= 'post' ,label='λ=' + str(lambdaArribos))\n",
    "    axis[0,1].legend()\n",
    "    axis[0,1].set_title(\"Arribos a lo largo del tiempo - Poisson\")\n",
    "\n",
    "\n",
    "    axis[0,2].set_title(\"Comportamiento del largo de la cola\")\n",
    "    p = sns.kdeplot(satelite.largoColaEnTiempo,cut=0,ax=axis[0,2])\n",
    "\n",
    "    x,y = p.get_lines()[0].get_data()\n",
    "\n",
    "    cdf = scipy.integrate.cumtrapz(y, x, initial=0)\n",
    "    medio = np.abs(cdf-0.5).argmin()\n",
    "\n",
    "    x_mediana = x[medio]\n",
    "    y_mediana = y[medio]\n",
    "\n",
    "    axis[0,2].vlines(x_mediana, 0, y_mediana)\n",
    "    axis[0,2].set_title(\"Comportamiento del largo de la cola\")\n",
    "    axis[0,2].set_xlabel(\"Largo de la cola\")\n",
    "    axis[0,2].set_ylabel(\"Probabilidad\")\n",
    "\n",
    "    axis[1,0].set_title(\"Densidad del tiempo de servicio\")\n",
    "    p = sns.kdeplot(satelite.tiemposDeServicio,cut=0, ax=axis[1,0])\n",
    "\n",
    "\n",
    "    axis[1,1].set_title(\"Densidad del tiempo de servicio afectada por la cola\")\n",
    "    p = sns.kdeplot(satelite.tiemposDeServicioAfectadosPorLaCola,cut=0,ax=axis[1,1])\n",
    "\n",
    "    f.suptitle(f\"N={cantidadArribos}  $\\lambda$ arribos={lambdaArribos}  $\\lambda$ servicio={lambdaServicio} gen={type(generador).__name__}\")\n",
    "\n",
    "    plt.show()"
   ]
  },
  {
   "cell_type": "code",
   "execution_count": 10,
   "metadata": {
    "slideshow": {
     "slide_type": "skip"
    },
    "tags": []
   },
   "outputs": [],
   "source": [
    "lambdaArribos_slider=FloatSlider(value=2, min=0.1, max=20, step=0.1, description=\"λ Arribos\")\n",
    "lambdaServicio_slider=FloatSlider(value=0.5, min=0.1, max=40, step=0.1, description=\"λ Servicio\")\n",
    "cantidadArribos_slider=FloatLogSlider(value=10_000, base=10, min=2, max=8, step=1, description=\"Solicitudes\", readout_format=\"d\")\n",
    "generador_dd=Dropdown(options=[(\"LXM\", LXM()), (\"GCL\", GCL())], index=0, description=\"Generador\")"
   ]
  },
  {
   "cell_type": "code",
   "execution_count": 11,
   "metadata": {
    "slideshow": {
     "slide_type": "skip"
    },
    "tags": []
   },
   "outputs": [
    {
     "data": {
      "application/vnd.jupyter.widget-view+json": {
       "model_id": "2913a5b0100d477dab63ca02f6ad287a",
       "version_major": 2,
       "version_minor": 0
      },
      "text/plain": [
       "interactive(children=(FloatSlider(value=2.0, description='λ Arribos', max=20.0, min=0.1), FloatSlider(value=0.…"
      ]
     },
     "metadata": {},
     "output_type": "display_data"
    }
   ],
   "source": [
    "interSimulacion = interactive(explorarSimulacion, {'manual': True}, lambdaArribos=lambdaArribos_slider, lambdaServicio=lambdaServicio_slider, cantidadArribos=cantidadArribos_slider, generador=generador_dd)\n",
    "display(interSimulacion)"
   ]
  },
  {
   "cell_type": "markdown",
   "metadata": {
    "slideshow": {
     "slide_type": "subslide"
    },
    "tags": []
   },
   "source": [
    "![](images/fig5.png)"
   ]
  },
  {
   "cell_type": "markdown",
   "metadata": {
    "slideshow": {
     "slide_type": "subslide"
    },
    "tags": []
   },
   "source": [
    "![](images/fig6.png)"
   ]
  },
  {
   "cell_type": "markdown",
   "metadata": {
    "slideshow": {
     "slide_type": "subslide"
    },
    "tags": []
   },
   "source": [
    "![](images/fig7.png)"
   ]
  },
  {
   "cell_type": "markdown",
   "metadata": {
    "slideshow": {
     "slide_type": "subslide"
    },
    "tags": []
   },
   "source": [
    "![](images/fig8.png)"
   ]
  },
  {
   "cell_type": "markdown",
   "metadata": {
    "slideshow": {
     "slide_type": "slide"
    },
    "tags": []
   },
   "source": [
    "## Ejercicio 3"
   ]
  },
  {
   "cell_type": "markdown",
   "metadata": {
    "slideshow": {
     "slide_type": "fragment"
    },
    "tags": []
   },
   "source": [
    "Un servidor recibe solicitudes las cuales son procesadas de una por vez en el orden de llegada (política FIFO).\n",
    "Se determinó que en 10 milisegundos existe una probabilidad 𝑝 = 1/40 que llegue una nueva solicitud y una probabilidad 𝑞 = 1/30 que una solicitud termine de ser procesada y deje el sistema. \n",
    "Se desea estudiar la cantidad de solicitudes en el servidor considerando tanto las que están en cola esperando ser\n",
    "procesadas como la solicitud que está siendo procesada.\n",
    "1. Determine la matriz de transición de estados explicando cómo se obtiene la misma.\n",
    "2. Utilizando Matlab, Octave o Python simule la evolución del sistema a lo largo de 1.000 segundos. Suponga que el\n",
    "sistema puede tener como máximo 30 estados posibles y que el servidor comienza sin estar procesando solicitudes.\n",
    "3. Realice un gráfico mostrando la cantidad de solicitudes en el servidor en cada instante de tiempo.\n",
    "4. Realice un histograma mostrando cuantas veces el sistema estuvo en cada estado.\n",
    "5. Determine el % de tiempo que el servidor se encuentra sin procesar solicitudes."
   ]
  },
  {
   "cell_type": "markdown",
   "metadata": {
    "slideshow": {
     "slide_type": "subslide"
    },
    "tags": []
   },
   "source": [
    "### Matriz de transición de estados"
   ]
  },
  {
   "cell_type": "markdown",
   "metadata": {
    "slideshow": {
     "slide_type": "fragment"
    },
    "tags": []
   },
   "source": [
    "Para resolver este ejercicio vamos a definir 2 eventos independientes entre sí:\n",
    "\n",
    "    A: arriba al sistema una nueva solicitud\n",
    "    E: una solicitud es procesada y egresa del sistema\n",
    "\n",
    "Esto nos permitirá descomponer a los estados del servidor dependiendo de cuántas solicitudes se estén procesando. La matriz de transición de estados quedaría entonces:"
   ]
  },
  {
   "cell_type": "markdown",
   "metadata": {
    "slideshow": {
     "slide_type": "fragment"
    },
    "tags": []
   },
   "source": [
    "    M = | P0->0   P0->1   P0->2   P0->3  P0->4  ... |\n",
    "        | P1->0   P1->1   P1->2   P1->3  P1->4  ... |\n",
    "        | P2->0   P2->1   P2->2   P2->3  P2->4  ... |\n",
    "        |  ...     ...     ...     ...    ...   ... |"
   ]
  },
  {
   "cell_type": "markdown",
   "metadata": {
    "slideshow": {
     "slide_type": "subslide"
    },
    "tags": []
   },
   "source": [
    "Sabemos que:\n",
    "\n",
    "    P(A) = p = 1/40\n",
    "    P(E) = q = 1/30\n",
    "    r = P(~A) = 1-P(A) = 1-1/40 = 39/40\n",
    "    s = P(~E) = 1-P(E) = 1-1/30 = 29/30\n",
    "\n",
    "Si hay solicitudes pendientes:\n",
    "- La probabilidad que en el próximo estado haya una solicitud **menos** es r*q\n",
    "- La probabilidad que en el próximo estado haya una solicitud **más** es p*s\n",
    "- La probabilidad de quedar **igual** es r*s+p*q\n",
    "\n",
    "Si no hay solicitudes pendientes:\n",
    "- La probabilidad que en el próximo estado haya una solicitud **más** es p\n",
    "- La probabilidad de quedar **igual** es r"
   ]
  },
  {
   "cell_type": "markdown",
   "metadata": {
    "slideshow": {
     "slide_type": "subslide"
    },
    "tags": []
   },
   "source": [
    "Entonces, podemos reescribir la matriz de transición de estados como:\n",
    "    \n",
    "    M = |   r       p       0       0      0    ... |\n",
    "        |  r*q   r*s+p*q   p*s      0      0    ... |\n",
    "        |   0      r*q    r*s+p*q  p*s     0    ... |\n",
    "        |  ...     ...     ...     ...    ...   ... |"
   ]
  },
  {
   "cell_type": "markdown",
   "metadata": {
    "slideshow": {
     "slide_type": "subslide"
    },
    "tags": []
   },
   "source": [
    "### Simulación con 1.000 segundos suponiendo que no hay solicitudes por procesar al comienzo"
   ]
  },
  {
   "cell_type": "code",
   "execution_count": 12,
   "metadata": {
    "slideshow": {
     "slide_type": "fragment"
    },
    "tags": []
   },
   "outputs": [],
   "source": [
    "N = 1000000  # 1.000 segundos en intervalos de 10 milisegundos\n",
    "\n",
    "solicitudes_en_proceso = 0\n",
    "estados = []\n",
    "for i in range(N):\n",
    "    # Agrego estado a log\n",
    "    estados.append(solicitudes_en_proceso)\n",
    "\n",
    "    # probabilidad de terminar una solicitud en proceso\n",
    "    if solicitudes_en_proceso > 0 and np.random.rand() < 1.0/30:\n",
    "        solicitudes_en_proceso = solicitudes_en_proceso - 1\n",
    "\n",
    "    # probabilidad de que ingrese una solicitud nueva\n",
    "    if np.random.rand() < 1.0/40:\n",
    "        solicitudes_en_proceso = solicitudes_en_proceso + 1"
   ]
  },
  {
   "cell_type": "markdown",
   "metadata": {
    "slideshow": {
     "slide_type": "subslide"
    },
    "tags": []
   },
   "source": [
    "Procedemos a graficar la cantidad de solicitudes en el servidor en función del tiempo."
   ]
  },
  {
   "cell_type": "code",
   "execution_count": 13,
   "metadata": {
    "slideshow": {
     "slide_type": "subslide"
    },
    "tags": []
   },
   "outputs": [
    {
     "data": {
      "image/png": "[encoded data removed]",
      "text/plain": [
       "<Figure size 1440x480 with 1 Axes>"
      ]
     },
     "metadata": {
      "needs_background": "light"
     },
     "output_type": "display_data"
    }
   ],
   "source": [
    "plt.figure(figsize=(18, 6), dpi=80)\n",
    "plt.title('Cantidad de solicitudes en proceso en el servidor en función del tiempo'.format(N), size=20)\n",
    "plt.xlabel('Tiempo')\n",
    "plt.ylabel('Cantidad de solicitudes en proceso')\n",
    "plt.plot(estados, linewidth=1.0)\n",
    "plt.show()"
   ]
  },
  {
   "cell_type": "code",
   "execution_count": 14,
   "metadata": {
    "slideshow": {
     "slide_type": "subslide"
    },
    "tags": []
   },
   "outputs": [
    {
     "data": {
      "image/png": "[encoded data removed]",
      "text/plain": [
       "<Figure size 1440x480 with 1 Axes>"
      ]
     },
     "metadata": {
      "needs_background": "light"
     },
     "output_type": "display_data"
    }
   ],
   "source": [
    "plt.figure(figsize=(18, 6), dpi=80)\n",
    "plt.title('Cantidad de ocurrencias de cada estado'.format(N), size=20)\n",
    "plt.xlabel('Estado')\n",
    "plt.ylabel('Cantidad de ocurrencias')\n",
    "plt.hist(estados, bins='sturges', linewidth=1.0, )\n",
    "plt.show()"
   ]
  },
  {
   "cell_type": "markdown",
   "metadata": {
    "slideshow": {
     "slide_type": "subslide"
    },
    "tags": []
   },
   "source": [
    "Procedemos ahora a analizar el tiempo ocioso del servidor, es decir, el porcentaje de tiempo durante el cual no está procesando solicitudes."
   ]
  },
  {
   "cell_type": "code",
   "execution_count": 15,
   "metadata": {
    "slideshow": {
     "slide_type": "fragment"
    },
    "tags": []
   },
   "outputs": [
    {
     "data": {
      "text/plain": [
       "'El porcentaje de tiempo que el sistema pasa sin procesar solicitudes es 25.399 %'"
      ]
     },
     "execution_count": 15,
     "metadata": {},
     "output_type": "execute_result"
    }
   ],
   "source": [
    "tiempo_sin_procesar_solicitudes = len(list(filter(lambda x: x == 0, estados))) / len(estados) * 100\n",
    "'El porcentaje de tiempo que el sistema pasa sin procesar solicitudes es {:.3f} %'.format(\n",
    "    tiempo_sin_procesar_solicitudes)"
   ]
  },
  {
   "cell_type": "markdown",
   "metadata": {
    "slideshow": {
     "slide_type": "fragment"
    },
    "tags": []
   },
   "source": [
    "Si revisamos desde la teoría de colas, el modelo corresponde con un M/M/1 donde $\\lambda=\\frac{1}{40}$ y $\\mu=\\frac{1}{30}$.\n",
    "\n",
    "Lo pedido corresponde con $P(0)$, donde podemos usar que $P(0) = 1 - \\rho = 1 - \\frac{1/40}{1/30} = 0,25$, viendo asi que lo practico se acerca a lo teórico.\n"
   ]
  },
  {
   "cell_type": "markdown",
   "metadata": {
    "slideshow": {
     "slide_type": "slide"
    },
    "tags": []
   },
   "source": [
    "# ¿Preguntas?"
   ]
  }
 ],
 "metadata": {
  "kernelspec": {
   "display_name": "Python 3 (ipykernel)",
   "language": "python",
   "name": "python3"
  },
  "language_info": {
   "codemirror_mode": {
    "name": "ipython",
    "version": 3
   },
   "file_extension": ".py",
   "mimetype": "text/x-python",
   "name": "python",
   "nbconvert_exporter": "python",
   "pygments_lexer": "ipython3",
   "version": "3.8.13"
  },
  "rise": {
   "slideNumber": false,
   "theme": "simple",
   "transition": "fade"
  },
  "vscode": {
   "interpreter": {
    "hash": "59b23a439ce858f6c48b87cdc3961c05fe34c6c004d414990b7e953144d53d79"
   }
  },
  "widgets": {
   "application/vnd.jupyter.widget-state+json": {
    "state": {
     "06b1bb7a311646c29b1e6fbf2a468fd0": {
      "model_module": "@jupyter-widgets/controls",
      "model_module_version": "1.5.0",
      "model_name": "SliderStyleModel",
      "state": {
       "description_width": ""
      }
     },
     "0d923e069ca04c6788cde593c7d63474": {
      "model_module": "@jupyter-widgets/base",
      "model_module_version": "1.2.0",
      "model_name": "LayoutModel",
      "state": {}
     },
     "13252621525641e0b9ffccca07e26820": {
      "model_module": "@jupyter-widgets/base",
      "model_module_version": "1.2.0",
      "model_name": "LayoutModel",
      "state": {}
     },
     "15aacbf698254473a6ad9119ccda193e": {
      "model_module": "@jupyter-widgets/controls",
      "model_module_version": "1.5.0",
      "model_name": "SliderStyleModel",
      "state": {
       "description_width": ""
      }
     },
     "172c7cd8704e45308f06c328918efa8f": {
      "model_module": "@jupyter-widgets/base",
      "model_module_version": "1.2.0",
      "model_name": "LayoutModel",
      "state": {}
     },
     "1d5c17ee8cfa4485a2f205f41bd245b7": {
      "model_module": "@jupyter-widgets/base",
      "model_module_version": "1.2.0",
      "model_name": "LayoutModel",
      "state": {}
     },
     "2913a5b0100d477dab63ca02f6ad287a": {
      "model_module": "@jupyter-widgets/controls",
      "model_module_version": "1.5.0",
      "model_name": "VBoxModel",
      "state": {
       "_dom_classes": [
        "widget-interact"
       ],
       "children": [
        "IPY_MODEL_57b3bb3399a4470cb940c97010fb081d",
        "IPY_MODEL_6b502d4cda184ffa953b339e26576a38",
        "IPY_MODEL_ccba7b478ab047f995d02e399b0c1428",
        "IPY_MODEL_ab2b3d31afb64709b494914565eec003",
        "IPY_MODEL_85eff16cc81c4d57ab44a45b0a429aa1",
        "IPY_MODEL_820f777a74654cf7b8222b7b9030aa2c"
       ],
       "layout": "IPY_MODEL_67be436f14b74c49a05ef2be2a971577"
      }
     },
     "29ef957774ad45528f1eef2824ea4fe4": {
      "model_module": "@jupyter-widgets/controls",
      "model_module_version": "1.5.0",
      "model_name": "ButtonStyleModel",
      "state": {}
     },
     "3a2c2901480e45949b732f2e134f4187": {
      "model_module": "@jupyter-widgets/controls",
      "model_module_version": "1.5.0",
      "model_name": "SliderStyleModel",
      "state": {
       "description_width": ""
      }
     },
     "3a387821abe44dc5ad19824e6bc626af": {
      "model_module": "@jupyter-widgets/base",
      "model_module_version": "1.2.0",
      "model_name": "LayoutModel",
      "state": {}
     },
     "3c90cfcac3504df8a39a949f0b8f088f": {
      "model_module": "@jupyter-widgets/output",
      "model_module_version": "1.0.0",
      "model_name": "OutputModel",
      "state": {
       "layout": "IPY_MODEL_4dda9889090f4314aa7154a2a92256d5"
      }
     },
     "4dda9889090f4314aa7154a2a92256d5": {
      "model_module": "@jupyter-widgets/base",
      "model_module_version": "1.2.0",
      "model_name": "LayoutModel",
      "state": {}
     },
     "4de89e023fc54bc0bfedc861292047e9": {
      "model_module": "@jupyter-widgets/controls",
      "model_module_version": "1.5.0",
      "model_name": "DescriptionStyleModel",
      "state": {
       "description_width": ""
      }
     },
     "57b3bb3399a4470cb940c97010fb081d": {
      "model_module": "@jupyter-widgets/controls",
      "model_module_version": "1.5.0",
      "model_name": "FloatSliderModel",
      "state": {
       "description": "λ Arribos",
       "layout": "IPY_MODEL_e9f61f0d096f43a5be406d5c4f127214",
       "max": 20,
       "min": 0.1,
       "step": 0.1,
       "style": "IPY_MODEL_3a2c2901480e45949b732f2e134f4187",
       "value": 2
      }
     },
     "67be436f14b74c49a05ef2be2a971577": {
      "model_module": "@jupyter-widgets/base",
      "model_module_version": "1.2.0",
      "model_name": "LayoutModel",
      "state": {}
     },
     "6b502d4cda184ffa953b339e26576a38": {
      "model_module": "@jupyter-widgets/controls",
      "model_module_version": "1.5.0",
      "model_name": "FloatSliderModel",
      "state": {
       "description": "λ Servicio",
       "layout": "IPY_MODEL_a39ddcdae44a429ab52bad55802d907e",
       "max": 40,
       "min": 0.1,
       "step": 0.1,
       "style": "IPY_MODEL_dfdfd10a43684d1389aa55fbf0ad4c59",
       "value": 0.5
      }
     },
     "6d55ed70a0b14d59b52b42b7518e848c": {
      "model_module": "@jupyter-widgets/base",
      "model_module_version": "1.2.0",
      "model_name": "LayoutModel",
      "state": {}
     },
     "7205ef432cbb4b8590d2253ad6cebfd4": {
      "model_module": "@jupyter-widgets/base",
      "model_module_version": "1.2.0",
      "model_name": "LayoutModel",
      "state": {}
     },
     "75e60d442e9a414dbca2878c3a0127f1": {
      "model_module": "@jupyter-widgets/controls",
      "model_module_version": "1.5.0",
      "model_name": "FloatSliderModel",
      "state": {
       "description": "$\\lambda$",
       "layout": "IPY_MODEL_3a387821abe44dc5ad19824e6bc626af",
       "max": 10,
       "min": 0.05,
       "step": 0.1,
       "style": "IPY_MODEL_ffbeddb6173d4e22872f3b2eca8537b5",
       "value": 2
      }
     },
     "820f777a74654cf7b8222b7b9030aa2c": {
      "model_module": "@jupyter-widgets/output",
      "model_module_version": "1.0.0",
      "model_name": "OutputModel",
      "state": {
       "layout": "IPY_MODEL_0d923e069ca04c6788cde593c7d63474"
      }
     },
     "846842b254764cc3b19cc526074d3445": {
      "model_module": "@jupyter-widgets/controls",
      "model_module_version": "1.5.0",
      "model_name": "FloatSliderModel",
      "state": {
       "description": "$K$",
       "layout": "IPY_MODEL_c792db022acd41d0b844a66769477ed6",
       "max": 10,
       "min": 1,
       "style": "IPY_MODEL_c3ce03d27b9945ca86acc48fa5e0c277",
       "value": 4
      }
     },
     "85eff16cc81c4d57ab44a45b0a429aa1": {
      "model_module": "@jupyter-widgets/controls",
      "model_module_version": "1.5.0",
      "model_name": "ButtonModel",
      "state": {
       "description": "Run Interact",
       "layout": "IPY_MODEL_6d55ed70a0b14d59b52b42b7518e848c",
       "style": "IPY_MODEL_29ef957774ad45528f1eef2824ea4fe4"
      }
     },
     "8621082000a543469eed663b7d74f0f5": {
      "model_module": "@jupyter-widgets/controls",
      "model_module_version": "1.5.0",
      "model_name": "FloatLogSliderModel",
      "state": {
       "description": "Iterations",
       "layout": "IPY_MODEL_e6be87cf5dbf4f5ea295293c2dc63910",
       "max": 8,
       "min": 2,
       "readout_format": "d",
       "step": 1,
       "style": "IPY_MODEL_f42bb2fb14ef43f4a68db446d33d4d96",
       "value": 10000
      }
     },
     "8e73aa54ba1542b2a387d1419d6f0d10": {
      "model_module": "@jupyter-widgets/controls",
      "model_module_version": "1.5.0",
      "model_name": "ButtonModel",
      "state": {
       "description": "Run Interact",
       "layout": "IPY_MODEL_1d5c17ee8cfa4485a2f205f41bd245b7",
       "style": "IPY_MODEL_ef269cb6fa8b4e0fa0e46746547a9ea1"
      }
     },
     "a39ddcdae44a429ab52bad55802d907e": {
      "model_module": "@jupyter-widgets/base",
      "model_module_version": "1.2.0",
      "model_name": "LayoutModel",
      "state": {}
     },
     "a6bf4219ca3e43dca06e34459c1b1763": {
      "model_module": "@jupyter-widgets/base",
      "model_module_version": "1.2.0",
      "model_name": "LayoutModel",
      "state": {}
     },
     "a7ab901ce98f4fd6923afa93dd382758": {
      "model_module": "@jupyter-widgets/controls",
      "model_module_version": "1.5.0",
      "model_name": "SliderStyleModel",
      "state": {
       "description_width": ""
      }
     },
     "ab2b3d31afb64709b494914565eec003": {
      "model_module": "@jupyter-widgets/controls",
      "model_module_version": "1.5.0",
      "model_name": "FloatLogSliderModel",
      "state": {
       "description": "Solicitudes",
       "layout": "IPY_MODEL_b5469811e02341999acc2fc49e328d9d",
       "max": 8,
       "min": 2,
       "readout_format": "d",
       "step": 1,
       "style": "IPY_MODEL_06b1bb7a311646c29b1e6fbf2a468fd0",
       "value": 10000
      }
     },
     "b132397510b24cc0863cd496f3346996": {
      "model_module": "@jupyter-widgets/controls",
      "model_module_version": "1.5.0",
      "model_name": "FloatSliderModel",
      "state": {
       "description": "$\\mu_d$",
       "layout": "IPY_MODEL_13252621525641e0b9ffccca07e26820",
       "max": 10,
       "min": 0.01,
       "step": 0.01,
       "style": "IPY_MODEL_15aacbf698254473a6ad9119ccda193e",
       "value": 5
      }
     },
     "b5469811e02341999acc2fc49e328d9d": {
      "model_module": "@jupyter-widgets/base",
      "model_module_version": "1.2.0",
      "model_name": "LayoutModel",
      "state": {}
     },
     "bc74a63a59c843f8bb8dfb061af74c09": {
      "model_module": "@jupyter-widgets/controls",
      "model_module_version": "1.5.0",
      "model_name": "DropdownModel",
      "state": {
       "_options_labels": [
        "LXM",
        "GCL"
       ],
       "description": "Generator to use",
       "index": 0,
       "layout": "IPY_MODEL_a6bf4219ca3e43dca06e34459c1b1763",
       "style": "IPY_MODEL_4de89e023fc54bc0bfedc861292047e9"
      }
     },
     "c17032a28cc34e81887c3fffa01acb15": {
      "model_module": "@jupyter-widgets/controls",
      "model_module_version": "1.5.0",
      "model_name": "FloatSliderModel",
      "state": {
       "description": "$\\mu_0$",
       "layout": "IPY_MODEL_172c7cd8704e45308f06c328918efa8f",
       "max": 10,
       "min": 0.01,
       "step": 0.01,
       "style": "IPY_MODEL_a7ab901ce98f4fd6923afa93dd382758",
       "value": 0.5
      }
     },
     "c3ce03d27b9945ca86acc48fa5e0c277": {
      "model_module": "@jupyter-widgets/controls",
      "model_module_version": "1.5.0",
      "model_name": "SliderStyleModel",
      "state": {
       "description_width": ""
      }
     },
     "c792db022acd41d0b844a66769477ed6": {
      "model_module": "@jupyter-widgets/base",
      "model_module_version": "1.2.0",
      "model_name": "LayoutModel",
      "state": {}
     },
     "cc711724f3584e09a7278e6e986a0fbe": {
      "model_module": "@jupyter-widgets/controls",
      "model_module_version": "1.5.0",
      "model_name": "DescriptionStyleModel",
      "state": {
       "description_width": ""
      }
     },
     "ccba7b478ab047f995d02e399b0c1428": {
      "model_module": "@jupyter-widgets/controls",
      "model_module_version": "1.5.0",
      "model_name": "DropdownModel",
      "state": {
       "_options_labels": [
        "LXM",
        "GCL"
       ],
       "description": "Generador",
       "index": 0,
       "layout": "IPY_MODEL_e1797b898365476d82b452058d169417",
       "style": "IPY_MODEL_cc711724f3584e09a7278e6e986a0fbe"
      }
     },
     "dfdfd10a43684d1389aa55fbf0ad4c59": {
      "model_module": "@jupyter-widgets/controls",
      "model_module_version": "1.5.0",
      "model_name": "SliderStyleModel",
      "state": {
       "description_width": ""
      }
     },
     "e1797b898365476d82b452058d169417": {
      "model_module": "@jupyter-widgets/base",
      "model_module_version": "1.2.0",
      "model_name": "LayoutModel",
      "state": {}
     },
     "e6be87cf5dbf4f5ea295293c2dc63910": {
      "model_module": "@jupyter-widgets/base",
      "model_module_version": "1.2.0",
      "model_name": "LayoutModel",
      "state": {}
     },
     "e9f61f0d096f43a5be406d5c4f127214": {
      "model_module": "@jupyter-widgets/base",
      "model_module_version": "1.2.0",
      "model_name": "LayoutModel",
      "state": {}
     },
     "ef269cb6fa8b4e0fa0e46746547a9ea1": {
      "model_module": "@jupyter-widgets/controls",
      "model_module_version": "1.5.0",
      "model_name": "ButtonStyleModel",
      "state": {}
     },
     "f42bb2fb14ef43f4a68db446d33d4d96": {
      "model_module": "@jupyter-widgets/controls",
      "model_module_version": "1.5.0",
      "model_name": "SliderStyleModel",
      "state": {
       "description_width": ""
      }
     },
     "f7a7d4b181944687bb9e382bdce776e7": {
      "model_module": "@jupyter-widgets/controls",
      "model_module_version": "1.5.0",
      "model_name": "VBoxModel",
      "state": {
       "_dom_classes": [
        "widget-interact"
       ],
       "children": [
        "IPY_MODEL_75e60d442e9a414dbca2878c3a0127f1",
        "IPY_MODEL_b132397510b24cc0863cd496f3346996",
        "IPY_MODEL_c17032a28cc34e81887c3fffa01acb15",
        "IPY_MODEL_846842b254764cc3b19cc526074d3445",
        "IPY_MODEL_bc74a63a59c843f8bb8dfb061af74c09",
        "IPY_MODEL_8621082000a543469eed663b7d74f0f5",
        "IPY_MODEL_8e73aa54ba1542b2a387d1419d6f0d10",
        "IPY_MODEL_3c90cfcac3504df8a39a949f0b8f088f"
       ],
       "layout": "IPY_MODEL_7205ef432cbb4b8590d2253ad6cebfd4"
      }
     },
     "ffbeddb6173d4e22872f3b2eca8537b5": {
      "model_module": "@jupyter-widgets/controls",
      "model_module_version": "1.5.0",
      "model_name": "SliderStyleModel",
      "state": {
       "description_width": ""
      }
     }
    },
    "version_major": 2,
    "version_minor": 0
   }
  }
 },
 "nbformat": 4,
 "nbformat_minor": 4
}
