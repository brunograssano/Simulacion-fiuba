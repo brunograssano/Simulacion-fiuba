{
  "cells": [
    {
      "cell_type": "code",
      "execution_count": null,
      "metadata": {
        "id": "gJr_9dXGpJ05"
      },
      "outputs": [],
      "source": [
        "from generators import LXM, GCL\n",
        "from matplotlib import pyplot as plt\n",
        "import seaborn as sns; sns.set()\n",
        "import numpy as np\n",
        "from math import pi,sqrt\n",
        "\n",
        "from scipy.stats import chi2, norm, anderson, shapiro\n",
        "\n",
        "from particulas import simular, animacion\n",
        "from matplotlib import patches as mpatches"
      ]
    },
    {
      "cell_type": "markdown",
      "metadata": {
        "id": "5KaqN_e4obLy"
      },
      "source": [
        "# **Trabajo Práctico N°1**"
      ]
    },
    {
      "cell_type": "markdown",
      "metadata": {
        "id": "_D2H27m4oimj"
      },
      "source": [
        "El presente trabajo práctico fue realizado por los alumnos:\n",
        "\n",
        "*   Anarella Nicoletta (Padrón 94551)\n",
        "*   Bruno Grassano (Padrón 103855)\n",
        "*   Ignacio Javier Mermet (Padrón 98153)\n",
        "*   Joaquin Gomez (Padrón 103735)\n"
      ]
    },
    {
      "cell_type": "markdown",
      "metadata": {
        "id": "vEZwPR40rT5G"
      },
      "source": [
        "# Ejercicio 1\n",
        "\n",
        "Sobre el generador de números al azar propuesto en el [paper asignado](https://drive.google.com/file/d/196pKnZFBc_sG6ceFNk64q8vn6BdQiwPx/view), se pide:\n",
        "- Implementarlo en función de lo especificado en el documento.\n",
        "- Modificarlo (si aplica) para obtener números al azar entre 0 y 1\n",
        "- Realizar los gráficos que considere adecuados para mostrar las distribuciones de números al azar generados en ambos casos."
      ]
    },
    {
      "cell_type": "markdown",
      "metadata": {
        "id": "ZYiY4ls-rT5G"
      },
      "source": [
        "La implementación de los generadores se puede ver en el módulo `generators.py`. En este notebook resolveremos el último punto.\n",
        "\n",
        "Se espera que los números generados estén justamente uniformemente distribuidos."
      ]
    },
    {
      "cell_type": "code",
      "execution_count": null,
      "metadata": {
        "id": "WlCCIlJurT5G"
      },
      "outputs": [],
      "source": [
        "def ejercicio1(generador):\n",
        "    n_numeros = 100_000\n",
        "    n_bins = 100\n",
        "\n",
        "    xn = generador.generar_vector(n_numeros)\n",
        "\n",
        "    plt.figure(figsize=(8, 5), dpi=125)\n",
        "    plt.hist(xn, bins=n_bins, alpha=0.7, label=\"Numeros generados\")\n",
        "    plt.title(\"Histograma de los numeros generados con el generador del ejercicio 1\")\n",
        "    plt.xlabel(\"Número generado\")\n",
        "    plt.ylabel(\"Cantidad\")\n",
        "\n",
        "    plt.axhline(\n",
        "        y=n_numeros / n_bins,\n",
        "        xmin=0,\n",
        "        xmax=1,\n",
        "        color=\"r\",\n",
        "        linestyle=\"--\",\n",
        "        label=\"Distribucion esperada\",\n",
        "    )\n",
        "\n",
        "    plt.xlim(left=0, right=1)\n",
        "    plt.ylim(top=(n_numeros / n_bins) * 1.4)\n",
        "    plt.legend()\n",
        "\n",
        "    plt.show()\n"
      ]
    },
    {
      "cell_type": "code",
      "execution_count": null,
      "metadata": {
        "id": "oiaHQLSErT5H"
      },
      "outputs": [],
      "source": [
        "\n",
        "ejercicio1(LXM())"
      ]
    },
    {
      "cell_type": "markdown",
      "metadata": {
        "id": "R8AK0J2jrT5H"
      },
      "source": [
        "Viendo el gráfico podemos ver que parece que se cumple, para analizar esto con más detalle vemos los tests."
      ]
    },
    {
      "cell_type": "markdown",
      "metadata": {
        "id": "mp6DTbtMARYA"
      },
      "source": [
        "## Ejercicio 2\n",
        "Para cada una de las 2 versiones del generador implementado en el ejercicio 1:\n",
        "\n",
        "\n",
        "*    Proponer, y realizar, al menos 2 tests para evaluar su comportamiento.\n",
        "\n",
        "*    Evaluar e interpretar los resultados de cada uno para distintos tamaños de muestras.\n",
        "\n",
        "\n"
      ]
    },
    {
      "cell_type": "code",
      "execution_count": null,
      "metadata": {
        "id": "mS6ZiBVxARYC"
      },
      "outputs": [],
      "source": [
        "def ejercicio2TestGap(generador):\n",
        "  cantidadGaps = 100000\n",
        "  gaps = []\n",
        "  gapB = 0.5\n",
        "  gapA = 0.2\n",
        "  pE = gapB - gapA #probabilidad de caer en el gap\n",
        "\n",
        "  a = -1\n",
        "  #genero valores hasta que el primero cae en el gap\n",
        "  while (not (0.2 < a <= 0.5)):\n",
        "      a = generador.generar()\n",
        "\n",
        "  #Genero una deteminada cantidad de gaps\n",
        "  contGap = 0\n",
        "  cont = 0\n",
        "\n",
        "  while (cont < cantidadGaps):\n",
        "      if (0.2 < a <= 0.5):\n",
        "          gaps.append(contGap)\n",
        "          contGap = 0\n",
        "          cont += 1\n",
        "      else:\n",
        "          contGap += 1\n",
        "\n",
        "      a = generador.generar()\n",
        "\n",
        "      \n",
        "  auxFrec = np.array(gaps)\n",
        "  maxFrec = np.amax(auxFrec)\n",
        "  frec = np.zeros(maxFrec + 1)    \n",
        "\n",
        "  #Genero array con las frecuencias de los gaps \n",
        "  for v in gaps:\n",
        "      frec[v] += 1\n",
        "\n",
        "\n",
        "  plt.hist(gaps, color=\"g\", bins=\"sturges\", alpha=0.9, density=True)\n",
        "\n",
        "  #Se calcula el estadístico\n",
        "  D2 = 0\n",
        "  tamGap = 0\n",
        "  for fr in frec:\n",
        "      D2 += ((fr - (pE*(1-pE)**tamGap)*cantidadGaps)**2)/((pE*(1-pE)**tamGap)*cantidadGaps)\n",
        "      tamGap += 1\n",
        "\n",
        "  limiteSuperior = chi2.ppf(0.95, df=maxFrec)\n",
        "\n",
        "  print(\"Estadistico: {:.2f} \".format(D2))\n",
        "  print(\"límit superior: {:.2f} \".format(limiteSuperior))\n",
        "  if D2 <= limiteSuperior:\n",
        "      print(\"El test acepta la hipotesis nula.\")\n",
        "  else:\n",
        "      print(\"El test rechaza la hipótesis nula\")\n",
        "\n",
        "  plt.show()\n"
      ]
    },
    {
      "cell_type": "code",
      "execution_count": null,
      "metadata": {
        "id": "cDowx0t6rT5I"
      },
      "outputs": [],
      "source": [
        "\n",
        "ejercicio2TestGap(LXM())"
      ]
    },
    {
      "cell_type": "markdown",
      "metadata": {
        "id": "DXGuF7ClARYD"
      },
      "source": [
        "Se propone un test general chi2 partiendo el intervalo [0,1] en 10 clases y usando alfa=0.01\n"
      ]
    },
    {
      "cell_type": "code",
      "execution_count": null,
      "metadata": {
        "id": "JLG_GZecARYE"
      },
      "outputs": [],
      "source": [
        "def ejercicio2TestChi2(generador):\n",
        "  N = 100000\n",
        "  valores = generador.generar_vector(cantidad = N)\n",
        "\n",
        "  k = 10 #cantidad de clases\n",
        "  frecuencias = []\n",
        "  frecuencias.append(valores[(valores < 0.1)].size)\n",
        "  for i in np.arange(0.1, 0.8, 0.1):\n",
        "    frecuencias.append(valores[(valores > i) & (valores < i+0.1)].size)\n",
        "  frecuencias.append(valores[(valores > 0.9)].size)\n",
        "  print(\"Frecuencias: \", frecuencias)\n",
        "\n",
        "  D2 = sum([(fO - 1/5*N)**2 for fO in frecuencias])/(1/5*N)\n",
        "  limiteSuperior = chi2.ppf(0.99, df=4)\n",
        "\n",
        "  print(\"Estadistico: {:.2f} \".format(D2))\n",
        "  print(\"Limite superior: {:.2f} \".format(limiteSuperior))\n",
        "  if D2 <= limiteSuperior:\n",
        "     print(\"El test acepta la hipotesis nula.\")\n",
        "  else:\n",
        "    print(\"El test rechaza la hipótesis nula\")\n"
      ]
    },
    {
      "cell_type": "code",
      "execution_count": null,
      "metadata": {
        "id": "jJOoRtRyrT5I"
      },
      "outputs": [],
      "source": [
        "\n",
        "ejercicio2TestChi2(LXM())"
      ]
    },
    {
      "cell_type": "markdown",
      "metadata": {
        "id": "BOyV62-MTpZ0"
      },
      "source": [
        "Como se puede observar en la ejecución de este test, se rechaza la hipótesis nula."
      ]
    },
    {
      "cell_type": "markdown",
      "metadata": {
        "id": "TK6wvlZLXNKo"
      },
      "source": [
        "Para finalizar, haremos tests espectrales para visualizar si existen patrones en los numeros generados"
      ]
    },
    {
      "cell_type": "code",
      "execution_count": null,
      "metadata": {
        "id": "jBAtBU1oXYBi"
      },
      "outputs": [],
      "source": [
        "def ejercicio2TestEspectralvisualizacion2D(generador):\n",
        "    N=10000\n",
        "    valores = generador.generar_vector(cantidad = N)\n",
        "\n",
        "    matriz = np.reshape(valores, (-1, 2)) \n",
        "    print(\"Dimensiones (filas,cols) = {0}\".format(matriz.shape))\n",
        "\n",
        "    x, y = matriz.T\n",
        "    plt.figure(figsize=(12, 10), dpi=90)\n",
        "    plt.title('Test espectral', size=15)\n",
        "    plt.scatter(x, y)\n",
        "    plt.show()\n"
      ]
    },
    {
      "cell_type": "code",
      "execution_count": null,
      "metadata": {
        "id": "kR4pPvDirT5J"
      },
      "outputs": [],
      "source": [
        "\n",
        "ejercicio2TestEspectralvisualizacion2D(LXM())"
      ]
    },
    {
      "cell_type": "markdown",
      "metadata": {
        "id": "d655KQtBYhCy"
      },
      "source": [
        "Se puede visualizar que no hay patrones ni en el centro de la imagen ni sobre las esquinas. Nos fijamos en 3 dimensiones para corroborar"
      ]
    },
    {
      "cell_type": "code",
      "execution_count": null,
      "metadata": {
        "id": "ZpbdB8PlYwGD"
      },
      "outputs": [],
      "source": [
        "def ejercicio2TestEspectralvisualizacion3D(generador):\n",
        "    #from mpl_toolkits.mplot3d import Axes3D \n",
        "    N=10002\n",
        "    valores = generador.generar_vector(cantidad = N)\n",
        "\n",
        "    matriz = np.reshape(valores, (-1, 3)) \n",
        "    print(\"Dimensiones (filas,cols) = {0}\".format(matriz.shape))\n",
        "\n",
        "    x, y, z = matriz.T\n",
        "\n",
        "    fig = plt.figure(figsize=(12, 10), dpi=90) \n",
        "    plt.title('Test espectral', size=15)\n",
        "    ax = fig.add_subplot(projection='3d')\n",
        "    ax.scatter(x, y, z)\n",
        "    plt.show()\n"
      ]
    },
    {
      "cell_type": "code",
      "execution_count": null,
      "metadata": {
        "id": "Boy5R-VzrT5K"
      },
      "outputs": [],
      "source": [
        "\n",
        "ejercicio2TestEspectralvisualizacion3D(LXM())"
      ]
    },
    {
      "cell_type": "markdown",
      "metadata": {
        "id": "5ZJl_BynZPCn"
      },
      "source": [
        "Podemos confirmar que tampoco se observan patrones en 3 dimensiones."
      ]
    },
    {
      "cell_type": "markdown",
      "metadata": {
        "id": "7GgK5zGJ5cEa"
      },
      "source": [
        "# **Ejercicio 3**"
      ]
    },
    {
      "cell_type": "markdown",
      "metadata": {
        "id": "p6bZYKDA5kdA"
      },
      "source": [
        "![image.png](data:image/png;base64,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)"
      ]
    },
    {
      "cell_type": "markdown",
      "metadata": {
        "id": "B6hx-X9XAYLn"
      },
      "source": [
        "En primer lugar utilizaremos el generador de números al azar con distribución uniforme, provisto por la librería numpy del lenguaje Python."
      ]
    },
    {
      "cell_type": "code",
      "execution_count": null,
      "metadata": {
        "id": "7pw7aoLQAYLn"
      },
      "outputs": [],
      "source": [
        "MAX_RANGO = 10\n",
        "N_ITERACION = 10000\n",
        "\n",
        "# Funcion circulo\n",
        "def fcv(x,y):\n",
        "  return ((x - 10)**2 + (y - 10)**2 <= 25 )\n",
        "\n",
        "def factor_de_rendimiento(validos, n_iter):\n",
        "  print(\"Factor de rendimiento: {}/{} ({:.2f}%)\\n\".format(validos, n_iter, (validos/n_iter)*100))\n",
        "\n",
        "def get_results(n_iter):\n",
        "    x = [5+x*MAX_RANGO for x in np.random.rand(n_iter)]\n",
        "    y = [5+y*MAX_RANGO for y in np.random.rand(n_iter)]\n",
        "    X = []\n",
        "    Y = []\n",
        "\n",
        "    for i in range(n_iter):\n",
        "        if fcv(x[i], y[i]):\n",
        "            X.append(x[i])\n",
        "            Y.append(y[i])\n",
        "\n",
        "    factor_de_rendimiento(len(X), n_iter)\n",
        "    return X, Y"
      ]
    },
    {
      "cell_type": "code",
      "execution_count": null,
      "metadata": {
        "id": "DWqTwA3LAYLo"
      },
      "outputs": [],
      "source": [
        "plt.figure(1)\n",
        "plt.figure(figsize=(13, 13))\n",
        "\n",
        "x = np.linspace(0, 20, 100)\n",
        "y = np.linspace(0, 20, 100)\n",
        "X, Y = np.meshgrid(x,y)\n",
        "F = (X-10)**2 + (Y-10)**2 - 25\n",
        "plt.contour(X,Y,F,[0])\n",
        "\n",
        "plt.figure(2)\n",
        "X, Y = get_results(N_ITERACION)\n",
        "plt.scatter(X, Y, s=10)\n",
        "plt.grid('on')\n",
        "plt.ylim( (0, 20) ) \n",
        "plt.xlim( (0, 20) )\n",
        "\n",
        "left, bottom, width, height = (5, 5, 10, 10)\n",
        "rect=mpatches.Rectangle((left,bottom),width,height, \n",
        "                        fill=False,\n",
        "                        color=\"grey\",\n",
        "                       linewidth=3)\n",
        "plt.gca().add_patch(rect)\n",
        "plt.show()"
      ]
    },
    {
      "cell_type": "markdown",
      "metadata": {
        "id": "uOFhERs6AYLo"
      },
      "source": [
        "El alto rendimiento de este método se debe principalmente a la selección de los límites del sector donde se generan los puntos aleatorios.\n",
        "\n",
        "A continuación repetiremos el procedimiento, pero esta vez usando el generador de números al azar implementado en el ejercicio 1."
      ]
    },
    {
      "cell_type": "code",
      "execution_count": null,
      "metadata": {
        "id": "JQPYlvhxAYLp"
      },
      "outputs": [],
      "source": [
        "def get_results_Modificado(n_iter, generador):\n",
        "\n",
        "    x = [5+x*MAX_RANGO for x in generador.generar_vector(n_iter)]\n",
        "    y = [5+y*MAX_RANGO for y in generador.generar_vector(n_iter)]\n",
        "    X = []\n",
        "    Y = []\n",
        "\n",
        "    for i in range(n_iter):\n",
        "        if fcv(x[i], y[i]):\n",
        "            X.append(x[i])\n",
        "            Y.append(y[i])\n",
        "\n",
        "    factor_de_rendimiento(len(X), n_iter)\n",
        "    return X, Y"
      ]
    },
    {
      "cell_type": "code",
      "execution_count": null,
      "metadata": {
        "cellView": "form",
        "id": "t11j-d6dAYLp"
      },
      "outputs": [],
      "source": [
        "def ejercicio3(generador):\n",
        "    plt.figure(1)\n",
        "    plt.figure(figsize=(13, 13))\n",
        "\n",
        "    x = np.linspace(0, 20, 100)\n",
        "    y = np.linspace(0, 20, 100)\n",
        "    X, Y = np.meshgrid(x,y)\n",
        "    F = (X-10)**2 + (Y-10)**2 - 25\n",
        "    plt.contour(X,Y,F,[0])\n",
        "\n",
        "    plt.figure(2)\n",
        "    X, Y = get_results_Modificado(N_ITERACION, generador)\n",
        "    plt.scatter(X, Y, s=10)\n",
        "    plt.grid('on')\n",
        "    plt.ylim( (0, 20) ) \n",
        "    plt.xlim( (0, 20) )\n",
        "\n",
        "    left, bottom, width, height = (5, 5, 10, 10)\n",
        "    rect=mpatches.Rectangle((left,bottom),width,height, \n",
        "                            fill=False,\n",
        "                            color=\"grey\",\n",
        "                        linewidth=3)\n",
        "    plt.gca().add_patch(rect)\n",
        "    plt.show()\n"
      ]
    },
    {
      "cell_type": "code",
      "execution_count": null,
      "metadata": {
        "id": "9swhgT7NrT5N"
      },
      "outputs": [],
      "source": [
        "\n",
        "ejercicio3(LXM())"
      ]
    },
    {
      "cell_type": "markdown",
      "metadata": {
        "id": "iAowjIWdAYLp"
      },
      "source": [
        "Los resultados son muy similares a los obtenidos previamente."
      ]
    },
    {
      "cell_type": "markdown",
      "metadata": {
        "id": "mpsapEiba477"
      },
      "source": [
        "# **Ejercicio 4**"
      ]
    },
    {
      "cell_type": "markdown",
      "metadata": {
        "id": "xv2g8otLbAtt"
      },
      "source": [
        "![image.png](data:image/png;base64,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)"
      ]
    },
    {
      "cell_type": "markdown",
      "metadata": {
        "id": "8WK0El39bfRp"
      },
      "source": [
        "Definimos la función de densidad de probabilidad asociada a la gráfica del enunciado como\n",
        "\n",
        "$$\n",
        "f(x) = \\left\\{\n",
        "    \\begin{array}\\\\\n",
        "        \\frac{1}{15}\\ x - \\frac{1}{15} & \\mbox{si } \\ 1\\leq x<4\\\\\n",
        "        -\\frac{2}{45}\\ x + \\frac{17}{45} & \\mbox{si } \\ 4\\leq x<6\\\\\n",
        "        \\frac{1}{9}\\ & \\mbox{si } \\ 6\\leq x<9\\\\\n",
        "        -\\frac{1}{9}\\ x + \\frac{10}{9} & \\mbox{si } \\ 9\\leq x<10\\\\\n",
        "        0 & \\mbox{en cualquier otro caso}\n",
        "    \\end{array}\n",
        "    \\right.\n",
        "$$"
      ]
    },
    {
      "cell_type": "markdown",
      "metadata": {
        "id": "pKvkFIwgbmCn"
      },
      "source": [
        "Verificamos que se trata de una función de densidad de probabilidad válida.\n",
        "\n",
        "$$\\int_{1}^{10} f(x)dx = \\int_{1}^{4} (\\frac{1}{15}\\ x - \\frac{1}{15} ) dx + \\int_{4}^{6} (-\\frac{2}{45}\\ x + \\frac{17}{45} ) dx + \\int_{6}^{9} \\frac{1}{9}\\  dx + \\int_{9}^{10} (-\\frac{1}{9}\\ x + \\frac{10}{9} ) dx$$\n",
        "\n",
        "$$= \\frac{1}{15}\\ \\int_{1}^{4} (x - 1) dx + \\frac{1}{45}\\ \\int_{4}^{6} (-2 x + 17) dx + \\int_{6}^{9} \\frac{1}{9}\\  dx + \\frac{1}{9}\\ \\int_{9}^{10} (-x + 10) dx$$\n",
        "\n",
        "$$= \\frac{1}{15}\\ (\\frac{x^2}{2}\\ -x) \\Big|_1^4\\ + \\frac{1}{45}\\ (-x^2+17x) \\Big|_4^6\\ + \\frac{1}{9}\\ (x) \\Big|_6^9\\ + \\frac{1}{9}\\ (-\\frac{x^2}{2}\\ +10x) \\Big|_9^{10}$$\n",
        "\n",
        "$$= \\frac{1}{15}\\ * \\frac{9}{2}\\ + \\frac{1}{45}\\ *14 + \\frac{1}{3}\\ + \\frac{1}{9}\\ *\\frac{1}{2}$$\n",
        "\n",
        "$$\\int_{1}^{10} f(x)dx = 1$$"
      ]
    },
    {
      "cell_type": "markdown",
      "metadata": {
        "id": "fVomgeYDbqel"
      },
      "source": [
        "Procedemos a calcular la función de probabilidad acumulada para la variable aleatoria X. Para ello integramos  $f(x)$ en los distintos intervalos.\n",
        "\n",
        "$$\\int_{1}^{x} (\\frac{1}{15}\\ t - \\frac{1}{15} ) dt=\\frac{1}{15}\\ (\\frac{t^2}{2}\\ -t) \\Big|_1^x\\ =\\frac{1}{15}\\ (\\frac{x^2}{2}\\ -x-\\frac{1}{2}\\ +1)=\\frac{1}{15}\\ (\\frac{x^2}{2}\\ -x+\\frac{1}{2}\\ )$$\n",
        "\n",
        "$$\\int_{4}^{x} (-\\frac{2}{45}\\ t + \\frac{17}{45} ) dt+\\frac{3}{10}=\\frac{1}{45}\\ (-t^2+17t) \\Big|_4^x\\ +\\frac{3}{10}=\\frac{1}{45}\\ (-x^2+17x+4^2-17*4)+\\frac{3}{10}=\\frac{1}{45}\\ (-x^2+17x-52)+\\frac{3}{10}$$\n",
        "\n",
        "$$\\int_{6}^{x} (\\frac{1}{9}) dt+\\frac{11}{18}=\\frac{1}{9}\\ (t) \\Big|_6^x\\ +\\frac{11}{18}=\\frac{1}{9}\\ (x-6)+\\frac{11}{18}$$\n",
        "\n",
        "$$\\int_{9}^{x} (-\\frac{1}{9}\\ t + \\frac{10}{9}) dt+\\frac{17}{18}=\\frac{1}{9}\\ (-\\frac{t^2}{2}\\ +10t) \\Big|_9^{x}+\\frac{17}{18}=\\frac{1}{9}\\ (-\\frac{x^2}{2}\\ +10x+\\frac{81}{2}\\ -90) +\\frac{17}{18}$$\n",
        "\n",
        "$$\n",
        "F_X(x) = \\left\\{\n",
        "    \\begin{array}\\\\\n",
        "        0 & \\mbox{si } \\ x<1\\\\\n",
        "        \\frac{1}{30}\\ x^2 -\\frac{1}{15}\\ x+\\frac{1}{30}\\ & \\mbox{si } \\ 1\\leq x<4\\\\\n",
        "        -\\frac{1}{45}\\ x^2+\\frac{17}{45}\\ x-\\frac{77}{90} & \\mbox{si } \\ 4\\leq x<6\\\\\n",
        "        \\frac{1}{9}\\ x-\\frac{1}{18}\\ & \\mbox{si } \\ 6\\leq x<9\\\\\n",
        "        -\\frac{1}{18}\\ x^2 +\\frac{10}{9}\\ x-\\frac{41}{9}\\ & \\mbox{si } \\ 9\\leq x<10\\\\\n",
        "        1 & \\mbox{si } \\ 10\\leq x\n",
        "    \\end{array}\n",
        "    \\right.\n",
        "$$"
      ]
    },
    {
      "cell_type": "code",
      "execution_count": null,
      "metadata": {
        "id": "XyVTxnTQa22y"
      },
      "outputs": [],
      "source": [
        "def F_X(x):\n",
        "    if x < 1:\n",
        "        return 0\n",
        "    elif x >= 1 and x < 4:\n",
        "        return 1/30 * x**2 - 1/15 * x + 1/30\n",
        "    elif x >= 4 and x < 6:\n",
        "        return - 1/45 * x**2 + 17/45 * x - 77/90\n",
        "    elif x >= 6 and x < 9:\n",
        "        return 1/9 * x - 1/18\n",
        "    elif x >= 9 and x < 10:\n",
        "        return -1/18 * x**2 + 10/9 * x - 41/9\n",
        "    elif x >= 10:\n",
        "        return 1\n",
        "    else:\n",
        "        print(\"La función no está definida para {0}\".format(x))\n",
        "        raise NotImplementedError"
      ]
    },
    {
      "cell_type": "code",
      "execution_count": null,
      "metadata": {
        "id": "1pCxEDIgbt_l"
      },
      "outputs": [],
      "source": [
        "x = np.linspace(0 ,11, 100)\n",
        "y = [F_X(i) for i in x]\n",
        "\n",
        "fig = plt.figure(figsize=(12, 6))\n",
        "ax = fig.add_subplot(1, 1, 1)\n",
        "ax.spines['right'].set_color('none')\n",
        "ax.spines['top'].set_color('none')\n",
        "plt.plot(x, y, color='#087E8B', linewidth=3.0)\n",
        "plt.title(\"Función de probabilidad acumulada de X\",size=15)\n",
        "plt.xlabel('x', size=15)\n",
        "plt.ylabel('F(x)', size=15)\n",
        "plt.show()"
      ]
    },
    {
      "cell_type": "markdown",
      "metadata": {
        "id": "Pfttxh47b0yh"
      },
      "source": [
        "Para invertir $F_X(x)$ conviene expresar cada uno de los tramos cuadráticos utilizando la expresión canónica.\n",
        "\n",
        "$$\n",
        "F_X(x) = \\left\\{\n",
        "    \\begin{array}\\\\\n",
        "        0 & \\mbox{si } \\ x<1\\\\\n",
        "        \\frac{1}{30}\\ (x-1)^2 & \\mbox{si } \\ 1\\leq x<4\\\\\n",
        "        -\\frac{1}{45}\\ (x-\\frac{17}{2}\\ )^2+\\frac{3}{4} & \\mbox{si } \\ 4\\leq x<6\\\\\n",
        "        \\frac{1}{9}\\ x-\\frac{1}{18}\\ & \\mbox{si } \\ 6\\leq x<9\\\\\n",
        "        -\\frac{1}{18}\\ (x-10)^2 +\\frac{10}{9}\\ x-\\frac{41}{9}\\ & \\mbox{si } \\ 9\\leq x<10\\\\\n",
        "        1 & \\mbox{si } \\ 10\\leq x\n",
        "    \\end{array}\n",
        "    \\right.\n",
        "$$"
      ]
    },
    {
      "cell_type": "markdown",
      "metadata": {
        "id": "MqbwZG4CdScA"
      },
      "source": [
        "$$\n",
        "F^{-1}_X(u) = \\left\\{\n",
        "    \\begin{array}\\\\\n",
        "        1 + \\sqrt{30u} & \\mbox{si } \\ 0\\leq u<\\frac{3}{10}\\\\\n",
        "        \\frac{17}{2}\\ - \\sqrt{-45u + \\frac{135}{4}\\ } & \\mbox{si } \\ \\frac{3}{10}\\ \\leq u<\\frac{11}{18}\\\\\n",
        "        9u+\\frac{1}{2}\\ & \\mbox{si } \\ \\frac{11}{18}\\ \\leq u<\\frac{17}{18}\\\\\n",
        "        10-\\sqrt{-18(u-1)} & \\mbox{si } \\ \\frac{17}{18}\\ \\leq u\\leq1\n",
        "    \\end{array}\n",
        "    \\right.\n",
        "$$"
      ]
    },
    {
      "cell_type": "code",
      "execution_count": null,
      "metadata": {
        "id": "Cocze5Xqb1sK"
      },
      "outputs": [],
      "source": [
        "def F_X_inversa(u):\n",
        "    if u >= 0 and u < 3/10:\n",
        "        return 1 + sqrt(30*u)\n",
        "    elif u >= 3/10 and u < 11/18:\n",
        "        return 17/2 - sqrt(-45 * u + 135/4)\n",
        "    elif u >= 11/18 and u < 17/18:\n",
        "        return 9 * u +1/2\n",
        "    elif u >= 17/18 and u <= 1:\n",
        "        return 10 - sqrt(-18*u+18)\n",
        "    else:\n",
        "        print(\"La función no está definida para {0}\".format(u))\n",
        "        raise NotImplementedError"
      ]
    },
    {
      "cell_type": "code",
      "execution_count": null,
      "metadata": {
        "cellView": "form",
        "id": "0rWofDpsb5Jz"
      },
      "outputs": [],
      "source": [
        "x = np.linspace(0 ,1, 100)\n",
        "y = [F_X_inversa(i) for i in x]\n",
        "\n",
        "fig = plt.figure(figsize=(12, 6))\n",
        "ax = fig.add_subplot(1, 1, 1)\n",
        "ax.spines['right'].set_color('none')\n",
        "ax.spines['top'].set_color('none')\n",
        "plt.title(\"Inversa de función de probabilidad acumulada de X\",size=15)\n",
        "plt.plot(x, y, color='#087E8B', linewidth=3.0)\n",
        "plt.xlabel('u', size=15)\n",
        "plt.ylabel('F-1(u)', size=15)\n",
        "plt.show()"
      ]
    },
    {
      "cell_type": "markdown",
      "metadata": {
        "id": "x3lIolLSdndK"
      },
      "source": [
        "Utilizando la función inversa, vamos a generar números aleatorios que respeten la distribución analizada. Como generador de números aleatorios con densidad uniforme tendremos el LXM que desarrollamos en el ejercicio 1. Y es justamente a esa muestra de números aleatorios que le vamos a aplicar la función inversa acumulativa."
      ]
    },
    {
      "cell_type": "code",
      "execution_count": null,
      "metadata": {
        "cellView": "form",
        "id": "lvvgKUB7cCDV"
      },
      "outputs": [],
      "source": [
        "def ejercicio4(generador):\n",
        "    for N in [100, 1000, 10000]:\n",
        "        u = generador.generar_vector(N)\n",
        "        x = [F_X_inversa(ui) for ui in u]\n",
        "\n",
        "        plt.figure(figsize=(12, 8), dpi=80)\n",
        "        plt.title('Generación de N={0} números al azar con densidad de distribución f(x)'.format(N), size=20)\n",
        "        plt.xlabel('Bins', size=15)\n",
        "        plt.ylabel('Cantidad de ocurrencias', size=15)\n",
        "\n",
        "        plt.hist(x, bins='sturges', color='#264653')\n",
        "        plt.show()\n"
      ]
    },
    {
      "cell_type": "code",
      "execution_count": null,
      "metadata": {
        "id": "XAePMWb1rT5S"
      },
      "outputs": [],
      "source": [
        "\n",
        "ejercicio4(LXM())"
      ]
    },
    {
      "cell_type": "markdown",
      "metadata": {
        "id": "-Ne2UBburT5S"
      },
      "source": [
        "# Ejercicio 5\n",
        "Utilizando el generador implementado en el ejercicio 1:\n",
        "* Implementar un método para generar variables aleatorias con distribución normal con media 15 y desvío 3.\n",
        "* Graficar la distribución que siguen los números pseudo aleatorios generados.\n",
        "* Realizar, al menos, 2 tests de los explicados en la materia para verificar si los números generados siguen la distribución pedida (evalué los resultados para distintos tamaños de muestra)."
      ]
    },
    {
      "cell_type": "markdown",
      "metadata": {
        "id": "0FGsGuLRrT5S"
      },
      "source": [
        "Empezamos implementando el método para generar las variables aleatorias. Para obtener la normal usamos el método de aceptación-rechazo, es decir, si se obtiene un valor dentro del area esperada, es aceptado, sino, se rechaza.\n",
        "\n",
        "Una particularidad a tener en cuenta, es que no se puede generar una normal entera debido al rango de la exponencial, por lo que según un nuevo valor random obtenido determinamos de que lado de la normal iría."
      ]
    },
    {
      "cell_type": "code",
      "execution_count": null,
      "metadata": {
        "id": "foQ7_7AHrT5S"
      },
      "outputs": [],
      "source": [
        "def fY(y):\n",
        "    return np.exp(-y)\n",
        "\n",
        "def fX(x):\n",
        "    return np.exp(-x**2 / 2) / np.sqrt(2 * pi)\n",
        "\n",
        "\n",
        "def probabilidadAceptar(t, c):\n",
        "    return fX(t) / (c * fY(t))\n",
        "\n",
        "def funcionNormal(media, desvio, N, generador):    \n",
        "    c = np.sqrt(2 * np.exp(1) / pi)\n",
        "    tExponenciales = np.random.exponential(size = N) \n",
        "    \n",
        "    zNormal = []\n",
        "    for i in range(N):\n",
        "        uniforme = generador.generar()\n",
        "        if uniforme < probabilidadAceptar(tExponenciales[i],c):\n",
        "            probabilidadSigno = generador.generar()\n",
        "            if probabilidadSigno < 0.5:\n",
        "                zNormal.append( tExponenciales[i] * desvio + media)\n",
        "            else:\n",
        "                zNormal.append( - tExponenciales[i] * desvio + media)\n",
        "\n",
        "\n",
        "    return zNormal\n"
      ]
    },
    {
      "cell_type": "code",
      "execution_count": null,
      "metadata": {
        "id": "WkXprIirrT5S"
      },
      "outputs": [],
      "source": [
        "\n",
        "vNormal = funcionNormal(15,3,100000, LXM())"
      ]
    },
    {
      "cell_type": "code",
      "execution_count": null,
      "metadata": {
        "id": "VS8ll5A1rT5S"
      },
      "outputs": [],
      "source": [
        "plt.hist( vNormal, 'sturges')\n",
        "plt.title('Histograma de Normal')\n",
        "plt.xlabel('X')\n",
        "plt.show()\n",
        "\n",
        "print('Media: ', np.mean(vNormal))\n",
        "print('Desvio: ', np.std(vNormal))"
      ]
    },
    {
      "cell_type": "markdown",
      "metadata": {
        "id": "TDYCMfTJrT5T"
      },
      "source": [
        "Podemos ver que los valores obtenidos de media y desvio son cercanos a los buscados."
      ]
    },
    {
      "cell_type": "markdown",
      "metadata": {
        "id": "KdlPnx5IrT5T"
      },
      "source": [
        "Vemos de realizar los tests para ver si se sigue la distribución pedida."
      ]
    },
    {
      "cell_type": "markdown",
      "metadata": {
        "id": "-B6fNqlnrT5T"
      },
      "source": [
        "Probamos primero aplicando el test de Kolmogorov Smirnov. Este test compara dos distribuciones de probabilidad acumulada, una se asigna a la hipótesis nula y la otra es generada de forma empírica.\n",
        "\n",
        "Como nivel de significación $\\alpha$ vamos a usar 0,05\n",
        "\n"
      ]
    },
    {
      "cell_type": "code",
      "execution_count": null,
      "metadata": {
        "id": "Ytg9w9JDrT5T"
      },
      "outputs": [],
      "source": [
        "def Kaceptacion(N):\n",
        "  return np.sqrt( -1 * np.log(0.05/2) / (2*N) )\n",
        "\n",
        "\n",
        "def kolmogorovSmirnov(muestra, Kaceptacion):\n",
        "    kMayor = 0\n",
        "    kMenor = 0\n",
        "    i = 1\n",
        "    n = len(muestra)\n",
        "    for x in sorted(muestra):\n",
        "        valorTeorico = norm.cdf(x, loc=15, scale=3)\n",
        "\n",
        "        kMayor = max(kMayor, (i / n - valorTeorico))\n",
        "        kMenor = max(kMenor, (valorTeorico - (i -1) / n))\n",
        "        i += 1\n",
        "\n",
        "    kMayor = sqrt(n) * kMayor\n",
        "    kMenor = sqrt(n) * kMenor\n",
        "    k = max(kMayor, kMenor)\n",
        "    print(\"K obtenido = {0}\".format(k))\n",
        "    print(\"K aceptación = {0}\".format(Kaceptacion))\n",
        "    if  k <= Kaceptacion:\n",
        "        print('Acepto H0')\n",
        "    else:\n",
        "        print('Rechazo H0')\n",
        "\n"
      ]
    },
    {
      "cell_type": "markdown",
      "metadata": {
        "id": "HM_kV61drT5T"
      },
      "source": [
        "Probamos el test para distintas muestras."
      ]
    },
    {
      "cell_type": "code",
      "execution_count": null,
      "metadata": {
        "id": "rJFvFEKhrT5T"
      },
      "outputs": [],
      "source": [
        "def ejercicio5TestKolmogorovSmirnov(generador):\n",
        "    for muestras in {1000, 10000, 100000}:\n",
        "        print(\"Muestras: {0}\".format(muestras))\n",
        "        vNormal = funcionNormal(15,3,muestras, generador)\n",
        "        kolmogorovSmirnov(vNormal,Kaceptacion(len(vNormal)))\n",
        "        print(\"------\")\n"
      ]
    },
    {
      "cell_type": "code",
      "execution_count": null,
      "metadata": {
        "id": "Wv56H6VIrT5T"
      },
      "outputs": [],
      "source": [
        "\n",
        "ejercicio5TestKolmogorovSmirnov(LXM())"
      ]
    },
    {
      "cell_type": "code",
      "execution_count": null,
      "metadata": {
        "id": "XvHJtodUrT5T"
      },
      "outputs": [],
      "source": [
        "def andersonTest(vNormal):\n",
        "  estadistico, valoresCriticos, nivelDeSignificancia  = anderson(vNormal)\n",
        "\n",
        "  print(\"Estadístico: %.3f\" % estadistico)\n",
        "\n",
        "  for i in range(len(valoresCriticos)):\n",
        "    print(\"Nivel de significancia: %.3f -- Umbral: %.3f\" % (nivelDeSignificancia[i] / 100, valoresCriticos[i]))\n",
        "    if estadistico < valoresCriticos[i]:\n",
        "      print(\"Los datos son normales, no se puede rechazar H0\")\n",
        "    else:\n",
        "      print(\"Los datos no son normales, se rechaza H0\")"
      ]
    },
    {
      "cell_type": "code",
      "execution_count": null,
      "metadata": {
        "id": "ci9JsgO1rT5U"
      },
      "outputs": [],
      "source": [
        "def ejercicio5TestAnderson(generador):\n",
        "  for muestras in {1000,10000,100000}:\n",
        "    print(\"Muestras: {0}\".format(muestras))\n",
        "    v_normal = funcionNormal(15,3,muestras,generador)\n",
        "    andersonTest(v_normal)\n",
        "    print(\"------\")\n",
        "    \n"
      ]
    },
    {
      "cell_type": "code",
      "execution_count": null,
      "metadata": {
        "id": "VmweL660rT5U"
      },
      "outputs": [],
      "source": [
        "ejercicio5TestAnderson(LXM())\n",
        "  "
      ]
    },
    {
      "cell_type": "markdown",
      "metadata": {
        "id": "ApjeLmcjrT5U"
      },
      "source": [
        "Se puede ver que la salida indica que los datos siguen una distribución normal."
      ]
    },
    {
      "cell_type": "markdown",
      "metadata": {
        "id": "Sv5gWWu7rT5U"
      },
      "source": [
        "Vemos ahora con el test de Shapiro Wilk. Este test determina la normalidad de los datos.\n",
        "\n",
        "* $H_0$: La muestra sigue la distribución probada.\n",
        "* $H_1$: La muestra no sigue la distribución probada."
      ]
    },
    {
      "cell_type": "code",
      "execution_count": null,
      "metadata": {
        "id": "Hr9Yef2lrT5U"
      },
      "outputs": [],
      "source": [
        "def shapiroWilkTest(vNormal, nivelSignificacion):\n",
        "  estadistico, pValor = shapiro(vNormal)\n",
        "\n",
        "  print(\"Estadístico: %.3f\" % estadistico)\n",
        "  print(\"p valor: %.6f\" % pValor)\n",
        "  if pValor < nivelSignificacion:\n",
        "    print(\"Los datos no son normales, se rechaza H0\")\n",
        "  else:\n",
        "    print(\"No se puede rechazar H0\")"
      ]
    },
    {
      "cell_type": "code",
      "execution_count": null,
      "metadata": {
        "id": "_SrAnkekrT5U"
      },
      "outputs": [],
      "source": [
        "def ejercicio5TestShapiroWilk(generador):\n",
        "    for muestras in {1000,10000,100000}:\n",
        "        print(\"Muestras: {0}\".format(muestras))\n",
        "        vNormal = funcionNormal(0,1,muestras,generador)\n",
        "        shapiroWilkTest(vNormal, 0.05)\n",
        "        print(\"------\")\n"
      ]
    },
    {
      "cell_type": "code",
      "execution_count": null,
      "metadata": {
        "id": "REIIBMaorT5U"
      },
      "outputs": [],
      "source": [
        "\n",
        "ejercicio5TestShapiroWilk(LXM())"
      ]
    },
    {
      "cell_type": "markdown",
      "metadata": {
        "id": "CRCTwu9_rT5U"
      },
      "source": [
        "Podemos ver que los datos siguen la distribución normal."
      ]
    },
    {
      "cell_type": "markdown",
      "metadata": {
        "id": "6RHl-Bh9rT5U"
      },
      "source": [
        "# Ejercicio 6"
      ]
    },
    {
      "cell_type": "markdown",
      "metadata": {
        "id": "8fCZDCqGrT5U"
      },
      "source": [
        "Se propone simular el desplazamiento de partículas sobre un plano utilizando un modelo basado en agentes, en\n",
        "el cual el desplazamiento se modela como random walking.\n",
        "Se considera una población de N partículas (utilizar distintos valor de N) distribuidos uniformemente sobre un\n",
        "área que se puede discretizar como una grilla de de 100 x 100.\n",
        "Considerar:\n",
        "* El movimiento de las partículas es equiprobable en las direcciones permitidas. En zonas distintas a los bordes, este movimiento será posible en 4 direcciones.\n",
        "* En los límites de la zona planteada, las partículas sólo pueden moverse en las direcciones permitidas.\n",
        "* Si más de una partícula, en el mismo instante de tiempo, intenta ocupar la misma posición, sólo una de ellas la ocupará, y el resto deberá volver a elegir dirección de desplazamiento. Si luego de 2 intentos consecutivos por moverse, la partícula no logra hacerlo, mantiene su lugar durante ese instante de tiempo.\n",
        "* El orden en el cual se mueven las partículas debe elegirse al azar, en cada instante de tiempo, siguiendo una distribución uniforme.\n",
        "* Existen los siguientes tipos de partículas, las cuales no reaccionan entre sí.\n",
        "\n",
        "| Tipo         | %     | Características |\n",
        "|--------------|-----------|------------|\n",
        "| A            | 70    | 1 celda por instante de tiempo       |\n",
        "| B            | 25    | 1 celda cada 2 instantes de tiempo       |\n",
        "| C            | 5     | 1 cada cada 4 instantes de tiempo       |\n",
        "\n",
        "Se pide:\n",
        "* Utilizar el generador de números al azar implementado en el ejercicio 1.\n",
        "* Una animación de la situación planteada\n",
        "* Dividir el área en 2 zonas de igual dimensión, y graficar la evolución de la densidad de partículas de cada tipo en cada una de ellas."
      ]
    },
    {
      "cell_type": "code",
      "execution_count": null,
      "metadata": {
        "id": "pu5Uygd3rT5V"
      },
      "outputs": [],
      "source": [
        "snapshots_path, caminantes = simular(caminantes=500, iteraciones=50)\n",
        "animacion(snapshots_path, caminantes)"
      ]
    },
    {
      "cell_type": "code",
      "execution_count": null,
      "metadata": {
        "id": "UAlv9wRPrT5V"
      },
      "outputs": [],
      "source": [
        "snapshots_path, caminantes = simular(caminantes=1000, iteraciones=250)\n",
        "animacion(snapshots_path, caminantes)"
      ]
    },
    {
      "cell_type": "code",
      "execution_count": null,
      "metadata": {
        "id": "YxUfxgKNrT5V"
      },
      "outputs": [],
      "source": [
        "snapshots_path, caminantes = simular(caminantes=2500, iteraciones=500)\n",
        "animacion(snapshots_path, caminantes)"
      ]
    },
    {
      "cell_type": "markdown",
      "metadata": {
        "id": "1DD0zO50rT5V"
      },
      "source": [
        "# Ejercicio opcional\n",
        "\n",
        "Comparar los resultados obtenidos en los ejercicios 1 a 5 utilizando el generador de números al azar propuesto en el paper\n",
        "asignado, con los resultados que se obtendrían con un Generador Congruencial Lineal de módulo 2^32, multiplicador\n",
        "1013904223, incremento de 1664525 y semilla igual a la parte entera del promedio de los números de padrón de los\n",
        "integrantes del grupo."
      ]
    },
    {
      "cell_type": "markdown",
      "metadata": {
        "id": "zAfAzN7frT5V"
      },
      "source": [
        "## Ejercicio 1"
      ]
    },
    {
      "cell_type": "code",
      "execution_count": null,
      "metadata": {
        "id": "sXW2JUK8rT5V"
      },
      "outputs": [],
      "source": [
        "ejercicio1(GCL())"
      ]
    },
    {
      "cell_type": "markdown",
      "metadata": {
        "id": "byhDPKCmrT5V"
      },
      "source": [
        "## Ejercicio 2"
      ]
    },
    {
      "cell_type": "code",
      "execution_count": null,
      "metadata": {
        "id": "-QAAMqG4rT5V"
      },
      "outputs": [],
      "source": [
        "ejercicio2TestGap(GCL())"
      ]
    },
    {
      "cell_type": "code",
      "execution_count": null,
      "metadata": {
        "id": "dJBsHMpZrT5V"
      },
      "outputs": [],
      "source": [
        "ejercicio2TestChi2(GCL())"
      ]
    },
    {
      "cell_type": "code",
      "execution_count": null,
      "metadata": {
        "id": "-TO1iirmrT5V"
      },
      "outputs": [],
      "source": [
        "ejercicio2TestEspectralvisualizacion2D(GCL())"
      ]
    },
    {
      "cell_type": "code",
      "execution_count": null,
      "metadata": {
        "id": "t8oWb6GprT5V"
      },
      "outputs": [],
      "source": [
        "ejercicio2TestEspectralvisualizacion3D(GCL())"
      ]
    },
    {
      "cell_type": "markdown",
      "source": [
        "En el ejercicio 1, se puede ver que se distribuye de forma uniforme y los tests del ejercicio 2 nos permiten confirmarlo. La unica diferencia con el generador LXM se encuentra en el resultado del test de gap"
      ],
      "metadata": {
        "id": "P2Y_mXeXroRI"
      }
    },
    {
      "cell_type": "markdown",
      "metadata": {
        "id": "DcxpD9-prT5W"
      },
      "source": [
        "## Ejercicio 3"
      ]
    },
    {
      "cell_type": "code",
      "execution_count": null,
      "metadata": {
        "id": "02LI6vSDrT5W"
      },
      "outputs": [],
      "source": [
        "ejercicio3(GCL())"
      ]
    },
    {
      "cell_type": "markdown",
      "source": [
        "Se puede observar que se genera con un rendimiento muy similar al de LXM. La diferencia es de menos del 1% en el rendimiento\n"
      ],
      "metadata": {
        "id": "68LPjWOsrl0e"
      }
    },
    {
      "cell_type": "markdown",
      "metadata": {
        "id": "tpf21WxNrT5W"
      },
      "source": [
        "## Ejercicio 4"
      ]
    },
    {
      "cell_type": "code",
      "execution_count": null,
      "metadata": {
        "id": "5S5Kr-QFrT5W"
      },
      "outputs": [],
      "source": [
        "ejercicio4(GCL())"
      ]
    },
    {
      "cell_type": "markdown",
      "source": [
        "En este ejercicio, los histogramas se ven bastante similares salvo en el caso de N=100"
      ],
      "metadata": {
        "id": "RNhBejonrisN"
      }
    },
    {
      "cell_type": "markdown",
      "metadata": {
        "id": "xWHzRwp4rT5W"
      },
      "source": [
        "## Ejercicio 5"
      ]
    },
    {
      "cell_type": "code",
      "execution_count": null,
      "metadata": {
        "id": "OPTlcdDPrT5W"
      },
      "outputs": [],
      "source": [
        "ejercicio5TestKolmogorovSmirnov(GCL())"
      ]
    },
    {
      "cell_type": "markdown",
      "source": [
        "Para el test de Kolmogorov, no se ven diferencias\n"
      ],
      "metadata": {
        "id": "uuH5H5gJrfi_"
      }
    },
    {
      "cell_type": "code",
      "execution_count": null,
      "metadata": {
        "id": "7ESdfHxdrT5W"
      },
      "outputs": [],
      "source": [
        "ejercicio5TestAnderson(GCL())"
      ]
    },
    {
      "cell_type": "markdown",
      "source": [
        "En el test de anderson, existen diferencias en casos puntuales en los cuales LXM no puede rechazar H0 como ocurre con 1000 muestras o con un umbral bajo"
      ],
      "metadata": {
        "id": "2EqNMNJ1rcog"
      }
    },
    {
      "cell_type": "code",
      "execution_count": null,
      "metadata": {
        "id": "W8V8HNBprT5W"
      },
      "outputs": [],
      "source": [
        "ejercicio5TestShapiroWilk(GCL())"
      ]
    },
    {
      "cell_type": "markdown",
      "source": [
        "Para el test de ShapiroWilk, tampoco se ven diferencias"
      ],
      "metadata": {
        "id": "5wp7KbSFrY_1"
      }
    },
    {
      "cell_type": "markdown",
      "source": [
        "## Conclusión del ejercicio opcional\n",
        "\n",
        "Se puede observar que los resultados de utilizar LXM y el generador congruencial lineal son bastante similares. Esto creemos que se debe a que LXM se basa en el generador congruencial lineal por lo tanto tiene sentido que tengan resultados parecidos."
      ],
      "metadata": {
        "id": "bWGxLIhRrWQB"
      }
    },
    {
      "cell_type": "code",
      "source": [
        ""
      ],
      "metadata": {
        "id": "FqzerC1MrW23"
      },
      "execution_count": null,
      "outputs": []
    }
  ],
  "metadata": {
    "colab": {
      "collapsed_sections": [],
      "name": "TP_1_2022.ipynb",
      "provenance": [],
      "toc_visible": true
    },
    "kernelspec": {
      "display_name": "Python 3",
      "language": "python",
      "name": "python3"
    },
    "language_info": {
      "codemirror_mode": {
        "name": "ipython",
        "version": 3
      },
      "file_extension": ".py",
      "mimetype": "text/x-python",
      "name": "python",
      "nbconvert_exporter": "python",
      "pygments_lexer": "ipython3",
      "version": "3.6.9"
    }
  },
  "nbformat": 4,
  "nbformat_minor": 0
}