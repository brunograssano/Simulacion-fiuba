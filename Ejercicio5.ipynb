{
 "cells": [
  {
   "cell_type": "code",
   "execution_count": null,
   "metadata": {},
   "outputs": [],
   "source": [
    "import numpy as np\n",
    "from matplotlib import pyplot as plt\n",
    "from scipy.stats import norm, anderson\n",
    "import seaborn as sns; sns.set()\n",
    "from math import sqrt"
   ]
  },
  {
   "cell_type": "markdown",
   "metadata": {},
   "source": [
    "# Ejercicio 5\n",
    "Utilizando el generador implementado en el ejercicio 1:\n",
    "* Implementar un método para generar variables aleatorias con distribución normal con media 15 y desvío 3.\n",
    "* Graficar la distribución que siguen los números pseudo aleatorios generados.\n",
    "* Realizar, al menos, 2 tests de los explicados en la materia para verificar si los números generados siguen la distribución pedida (evalué los resultados para distintos tamaños de muestra)."
   ]
  },
  {
   "cell_type": "markdown",
   "metadata": {},
   "source": [
    "Empezamos implementando el método para generar las variables aleatorias. Para obtener la normal usamos el método de aceptación-rechazo"
   ]
  },
  {
   "cell_type": "code",
   "execution_count": null,
   "metadata": {},
   "outputs": [],
   "source": [
    "def f1(u): # exponencial lambda = 1\n",
    "    return -1*np.log(u)\n",
    "def f2(x): # probabilidad de aceptar\n",
    "    return np.exp(-1/2 * (x-1)**2 )\n",
    "\n",
    "def signoPositivo():\n",
    "    return np.random.rand() <= 0.5\n",
    "\n",
    "def funcionNormal(media, desvio, N):\n",
    "    U1 = np.random.rand(N) # vector aleatorio para aplicarle la exponencial\n",
    "    U2 = np.random.rand(N) # vector aleatorio para comparar y aceptar o rechazar\n",
    "\n",
    "    X=[]\n",
    "    X11=[]\n",
    "    for i in range(N):\n",
    "        X1 = f1(U1[i])\n",
    "        if (U2[i] <= f2(X1)): # aceptacion o rechazo\n",
    "            X11.append(X1)\n",
    "            if signoPositivo():\n",
    "                X.append(X1 * desvio + media)\n",
    "            else:\n",
    "                X.append(-1 * X1 * desvio + media)\n",
    "\n",
    "    return X, X11\n",
    "\n",
    "v_normal, v_exponencial = funcionNormal(15,3,100000)"
   ]
  },
  {
   "cell_type": "code",
   "execution_count": null,
   "metadata": {},
   "outputs": [],
   "source": [
    "#ploteamos la media exponencial   \n",
    "plt.hist(v_exponencial,'sturges',color='orange')\n",
    "plt.title('Histograma de media exponencial')\n",
    "plt.xlabel('X1')\n",
    "plt.show()\n",
    "\n",
    "#ploteamos la normal\n",
    "plt.hist( v_normal,'sturges')\n",
    "plt.title('Histograma de Normal')\n",
    "plt.xlabel('X')\n",
    "plt.show()\n",
    "\n",
    "print ('Media: ', np.mean(v_normal))\n",
    "print ('Varianza: ', np.var(v_normal))"
   ]
  },
  {
   "cell_type": "markdown",
   "metadata": {},
   "source": [
    "Vemos de realizar los tests para ver si se sigue la distribución pedida."
   ]
  },
  {
   "cell_type": "markdown",
   "metadata": {},
   "source": [
    "En primer lugar aplicamos el test Kolmogorov Smirnov, con los siguientes parámetros:\n",
    "\n",
    "*   Nivel de significación $\\alpha$ = 0,05\n",
    "*   $K_{aceptación}$ tabulado usando K = C /$\\sqrt{n}\\ $ para el nivel de significacion C = 0,88\n",
    "\n"
   ]
  },
  {
   "cell_type": "code",
   "execution_count": null,
   "metadata": {},
   "outputs": [],
   "source": [
    "def Kaceptacion(N):\n",
    "  return 0.88/(sqrt(N))\n",
    "\n",
    "\n",
    "def kolmogorov_smirnov(muestra, Kacept):\n",
    "    k_mayor = 0\n",
    "    k_menor = 0\n",
    "    i = 1\n",
    "    n = len(muestra)\n",
    "    for x in sorted(muestra):#se ordena la muestra\n",
    "        valor_teorico = norm.cdf(x, loc=15, scale=3) #valor teorico obtenido de la funcion normal\n",
    "        k_mayor = max(k_mayor, (i / n - valor_teorico))\n",
    "        k_menor = max(k_menor, (valor_teorico - (i -1) / n))\n",
    "        i += 1\n",
    "\n",
    "    k_mayor = sqrt(n) * k_mayor\n",
    "    k_menor = sqrt(n) * k_menor\n",
    "    k = max(k_mayor, k_menor)\n",
    "    print(\"K obtenido = {0}\".format(k))\n",
    "    print(\"K aceptación = {0}\".format(Kacept))\n",
    "    if  k <= Kacept:\n",
    "        print ('Acepto H0')\n",
    "    else:\n",
    "        print ('Rechazo H0')\n",
    "\n"
   ]
  },
  {
   "cell_type": "markdown",
   "metadata": {},
   "source": [
    "Probamos el test para distintas muestras."
   ]
  },
  {
   "cell_type": "code",
   "execution_count": null,
   "metadata": {},
   "outputs": [],
   "source": [
    "for muestras in {1000, 10000, 100000, 500000}:\n",
    "    print(\"Muestras: {0}\".format(muestras))\n",
    "    v_normal , exp = funcionNormal(15,3,muestras)\n",
    "    kolmogorov_smirnov(v_normal,Kaceptacion(len(v_normal)))\n",
    "    print(\"------\")"
   ]
  },
  {
   "cell_type": "code",
   "execution_count": null,
   "metadata": {},
   "outputs": [],
   "source": [
    "def andersonTest(v_normal):\n",
    "    #Ejecutamos el test de normalidad(por defecto compara contra Normal)\n",
    "  resultado = anderson(v_normal)\n",
    "\n",
    "  print(\"Estadístico: %.3f\" % resultado.statistic)\n",
    "\n",
    "  for i in range(len(resultado.critical_values)):\n",
    "    nivel_significancia, umbral= resultado.significance_level[i]/100, resultado.critical_values[i] #distintos niveles de significacion\n",
    "    print(\"Nivel significancia: %.3f -- Umbral: %.3f\" % (nivel_significancia, umbral))\n",
    "    if resultado.statistic< resultado.critical_values[i]:\n",
    "      print(\"Datos normales(No se puede rechazar H0)\")\n",
    "    else:\n",
    "      print(\"Datos No normales(Se rechaza H0)\")"
   ]
  },
  {
   "cell_type": "code",
   "execution_count": null,
   "metadata": {},
   "outputs": [],
   "source": [
    "for muestras in {1000,10000,100000}:\n",
    "  print(\"Muestras: {0}\".format(muestras))\n",
    "  v_normal , exp = funcionNormal(15,3,muestras)\n",
    "  andersonTest(v_normal)\n",
    "  print(\"------\")\n",
    "  "
   ]
  }
 ],
 "metadata": {
  "interpreter": {
   "hash": "31ff804e05c542abfdab620000e5333bc9afc6a565bbee95afa27485d8eec998"
  },
  "kernelspec": {
   "display_name": "Python 3.9.7 ('base')",
   "language": "python",
   "name": "python3"
  },
  "language_info": {
   "codemirror_mode": {
    "name": "ipython",
    "version": 3
   },
   "file_extension": ".py",
   "mimetype": "text/x-python",
   "name": "python",
   "nbconvert_exporter": "python",
   "pygments_lexer": "ipython3",
   "version": "3.9.7"
  },
  "orig_nbformat": 4
 },
 "nbformat": 4,
 "nbformat_minor": 2
}
