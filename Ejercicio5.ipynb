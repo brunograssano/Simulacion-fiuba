{
 "cells": [
  {
   "cell_type": "code",
   "execution_count": null,
   "metadata": {},
   "outputs": [],
   "source": [
    "import numpy as np\n",
    "from matplotlib import pyplot as plt\n",
    "from scipy.stats import norm, anderson, shapiro\n",
    "import seaborn as sns; sns.set()\n",
    "from math import pi,sqrt\n",
    "\n",
    "from generators import LXM "
   ]
  },
  {
   "cell_type": "markdown",
   "metadata": {},
   "source": [
    "# Ejercicio 5\n",
    "Utilizando el generador implementado en el ejercicio 1:\n",
    "* Implementar un método para generar variables aleatorias con distribución normal con media 15 y desvío 3.\n",
    "* Graficar la distribución que siguen los números pseudo aleatorios generados.\n",
    "* Realizar, al menos, 2 tests de los explicados en la materia para verificar si los números generados siguen la distribución pedida (evalué los resultados para distintos tamaños de muestra)."
   ]
  },
  {
   "cell_type": "markdown",
   "metadata": {},
   "source": [
    "Empezamos implementando el método para generar las variables aleatorias. Para obtener la normal usamos el método de aceptación-rechazo, es decir, si se obtiene un valor dentro del area esperada, es aceptado, sino, se rechaza.\n",
    "\n",
    "Una particularidad a tener en cuenta, es que no se puede generar una normal entera debido al rango de la exponencial, por lo que según un nuevo valor random obtenido determinamos de que lado de la normal iría."
   ]
  },
  {
   "cell_type": "code",
   "execution_count": null,
   "metadata": {},
   "outputs": [],
   "source": [
    "def fY(y):\n",
    "    return np.exp(-y)\n",
    "\n",
    "def fX(x):\n",
    "    return np.exp(-x**2 / 2) / np.sqrt(2 * pi)\n",
    "\n",
    "\n",
    "def probabilidadAceptar(t, c):\n",
    "    return fX(t) / (c * fY(t))\n",
    "\n",
    "def funcionNormal(media, desvio, N):\n",
    "    lxm = LXM()\n",
    "    c = np.sqrt(2 * np.exp(1) / pi)\n",
    "    tExponenciales = np.random.exponential(size = N) \n",
    "    \n",
    "    zNormal = []\n",
    "    for i in range(N):\n",
    "        uniforme = lxm.generar(True)\n",
    "        if uniforme < probabilidadAceptar(tExponenciales[i],c):\n",
    "            probabilidadSigno = lxm.generar(True)\n",
    "            if probabilidadSigno < 0.5:\n",
    "                zNormal.append( tExponenciales[i] * desvio + media)\n",
    "            else:\n",
    "                zNormal.append( - tExponenciales[i] * desvio + media)\n",
    "\n",
    "\n",
    "    return zNormal\n",
    "\n",
    "vNormal = funcionNormal(15,3,100000)"
   ]
  },
  {
   "cell_type": "code",
   "execution_count": null,
   "metadata": {},
   "outputs": [],
   "source": [
    "plt.hist( vNormal, bins=100)\n",
    "plt.title('Histograma de Normal')\n",
    "plt.xlabel('X')\n",
    "plt.show()\n",
    "\n",
    "print('Media: ', np.mean(vNormal))\n",
    "print('Desvio: ', np.std(vNormal))"
   ]
  },
  {
   "cell_type": "markdown",
   "metadata": {},
   "source": [
    "Vemos de realizar los tests para ver si se sigue la distribución pedida."
   ]
  },
  {
   "cell_type": "markdown",
   "metadata": {},
   "source": [
    "Probamos primero aplicando el test de Kolmogorov Smirnov. Este test compara dos distribuciones de probabilidad acumulada, una se asigna a la hipótesis nula y la otra es generada de forma empírica.\n",
    "\n",
    "Los parámetros que vamos a usar son:\n",
    "*   Nivel de significación $\\alpha$ = 0,05\n",
    "*   $K_{aceptación}$ tabulado usando K = $ \\frac{C}{\\sqrt{n}}$ para el nivel de significación C = 0,88\n",
    "\n"
   ]
  },
  {
   "cell_type": "code",
   "execution_count": null,
   "metadata": {},
   "outputs": [],
   "source": [
    "def Kaceptacion(N):\n",
    "  return 0.88/(sqrt(N))\n",
    "\n",
    "\n",
    "def kolmogorovSmirnov(muestra, Kaceptacion):\n",
    "    kMayor = 0\n",
    "    kMenor = 0\n",
    "    i = 1\n",
    "    n = len(muestra)\n",
    "    for x in sorted(muestra):\n",
    "        valorTeorico = norm.cdf(x, loc=15, scale=3)\n",
    "\n",
    "        kMayor = max(kMayor, (i / n - valorTeorico))\n",
    "        kMenor = max(kMenor, (valorTeorico - (i -1) / n))\n",
    "        i += 1\n",
    "\n",
    "    kMayor = sqrt(n) * kMayor\n",
    "    kMenor = sqrt(n) * kMenor\n",
    "    k = max(kMayor, kMenor)\n",
    "    print(\"K obtenido = {0}\".format(k))\n",
    "    print(\"K aceptación = {0}\".format(Kaceptacion))\n",
    "    if  k <= Kaceptacion:\n",
    "        print('Acepto H0')\n",
    "    else:\n",
    "        print('Rechazo H0')\n",
    "\n"
   ]
  },
  {
   "cell_type": "markdown",
   "metadata": {},
   "source": [
    "Probamos el test para distintas muestras."
   ]
  },
  {
   "cell_type": "code",
   "execution_count": null,
   "metadata": {},
   "outputs": [],
   "source": [
    "for muestras in {1000, 10000, 100000, 500000}:\n",
    "    print(\"Muestras: {0}\".format(muestras))\n",
    "    vNormal = funcionNormal(15,3,muestras)\n",
    "    kolmogorovSmirnov(vNormal,Kaceptacion(len(vNormal)))\n",
    "    print(\"------\")"
   ]
  },
  {
   "cell_type": "code",
   "execution_count": null,
   "metadata": {},
   "outputs": [],
   "source": [
    "def andersonTest(vNormal):\n",
    "  estadistico, valoresCriticos, nivelDeSignificancia  = anderson(vNormal)\n",
    "\n",
    "  print(\"Estadístico: %.3f\" % estadistico)\n",
    "\n",
    "  for i in range(len(valoresCriticos)):\n",
    "    print(\"Nivel de significancia: %.3f -- Umbral: %.3f\" % (nivelDeSignificancia[i] / 100, valoresCriticos[i]))\n",
    "    if estadistico < valoresCriticos[i]:\n",
    "      print(\"Los datos son normales, no se puede rechazar H0\")\n",
    "    else:\n",
    "      print(\"Los datos no son normales, se rechaza H0\")"
   ]
  },
  {
   "cell_type": "code",
   "execution_count": null,
   "metadata": {},
   "outputs": [],
   "source": [
    "for muestras in {1000,10000,100000}:\n",
    "  print(\"Muestras: {0}\".format(muestras))\n",
    "  v_normal = funcionNormal(15,3,muestras)\n",
    "  andersonTest(v_normal)\n",
    "  print(\"------\")\n",
    "  "
   ]
  },
  {
   "cell_type": "markdown",
   "metadata": {},
   "source": [
    "Se puede ver que la salida indica que los datos siguen una distribución normal."
   ]
  },
  {
   "cell_type": "markdown",
   "metadata": {},
   "source": [
    "Vemos ahora con el test de Shapiro Wilk. Este test determina la normalidad de los datos.\n",
    "\n",
    "* $H_0$: La muestra sigue la distribución probada.\n",
    "* $H_1$: La muestra no sigue la distribución probada."
   ]
  },
  {
   "cell_type": "code",
   "execution_count": null,
   "metadata": {},
   "outputs": [],
   "source": [
    "def shapiroWilkTest(vNormal, nivelSignificacion):\n",
    "  estadistico, pValor = shapiro(vNormal)\n",
    "\n",
    "  print(\"Estadístico: %.3f\" % estadistico)\n",
    "  print(\"p valor: %.6f\" % pValor)\n",
    "  if pValor < nivelSignificacion:\n",
    "    print(\"Los datos no son normales, se rechaza H0\")\n",
    "  else:\n",
    "    print(\"No se puede rechazar H0\")"
   ]
  },
  {
   "cell_type": "code",
   "execution_count": null,
   "metadata": {},
   "outputs": [],
   "source": [
    "for muestras in {1000,10000,100000}:\n",
    "    print(\"Muestras: {0}\".format(muestras))\n",
    "    vNormal = funcionNormal(0,1,muestras)\n",
    "    shapiroWilkTest(vNormal, 0.05)\n",
    "    print(\"------\")"
   ]
  },
  {
   "cell_type": "markdown",
   "metadata": {},
   "source": [
    "Podemos ver que los datos siguen la distribución normal."
   ]
  }
 ],
 "metadata": {
  "interpreter": {
   "hash": "31ff804e05c542abfdab620000e5333bc9afc6a565bbee95afa27485d8eec998"
  },
  "kernelspec": {
   "display_name": "Python 3.9.7 ('base')",
   "language": "python",
   "name": "python3"
  },
  "language_info": {
   "codemirror_mode": {
    "name": "ipython",
    "version": 3
   },
   "file_extension": ".py",
   "mimetype": "text/x-python",
   "name": "python",
   "nbconvert_exporter": "python",
   "pygments_lexer": "ipython3",
   "version": "3.9.7"
  },
  "orig_nbformat": 4
 },
 "nbformat": 4,
 "nbformat_minor": 2
}
