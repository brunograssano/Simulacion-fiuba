{
 "cells": [
  {
   "cell_type": "markdown",
   "metadata": {},
   "source": [
    "## Ejercicio 2\n",
    "Utilizar Simpy para simular una sección del ejercicio 1 a elección"
   ]
  },
  {
   "cell_type": "code",
   "execution_count": null,
   "metadata": {},
   "outputs": [],
   "source": [
    "from generators import LXM, GCL\n",
    "import numpy as np\n",
    "from matplotlib import pyplot as plt\n",
    "import seaborn as sns; sns.set()\n",
    "import simpy\n",
    "import scipy"
   ]
  },
  {
   "cell_type": "markdown",
   "metadata": {},
   "source": [
    "Parametros iniciales"
   ]
  },
  {
   "cell_type": "code",
   "execution_count": null,
   "metadata": {},
   "outputs": [],
   "source": [
    "lambdaArribos = 9\n",
    "lambdaServicio = 10\n",
    "cantidadArribos = 20000\n",
    "generador = LXM()"
   ]
  },
  {
   "cell_type": "markdown",
   "metadata": {},
   "source": [
    "Vamos a necesitar generar valores exponenciales, los obtenemos con la transformada inversa."
   ]
  },
  {
   "cell_type": "code",
   "execution_count": null,
   "metadata": {},
   "outputs": [],
   "source": [
    "def exponencial(lambdaArgumento, generador):\n",
    "    uniforme = generador.generar()\n",
    "    return - np.log(1 - uniforme) / lambdaArgumento"
   ]
  },
  {
   "cell_type": "markdown",
   "metadata": {},
   "source": [
    "Definimos el modelo del satelite y la solicitud."
   ]
  },
  {
   "cell_type": "code",
   "execution_count": null,
   "metadata": {},
   "outputs": [],
   "source": [
    "class Satelite:\n",
    "    def __init__(self, env, servicioDescarga, lambdaArgumento, generador):\n",
    "        self.env = env\n",
    "        self.lambdaArgumento = lambdaArgumento\n",
    "        self.generador = generador\n",
    "        self.servicioDescarga = servicioDescarga\n",
    "\n",
    "    def atencion(self, id):\n",
    "        tiempoAtencion = exponencial(self.lambdaArgumento, self.generador)\n",
    "        servicio = self.servicioDescarga.request()\n",
    "        yield servicio\n",
    "        print(\"Satelite en uso por la solicitud con id \" + str(id))\n",
    "        N = 1\n",
    "        largoCola = len(self.servicioDescarga.queue)\n",
    "        if largoCola != 0:\n",
    "            N = largoCola\n",
    "        tiempoServicio = tiempoAtencion / N\n",
    "        print(\"El tiempo de atencion obtenido es: \" + str(tiempoAtencion)  + \", tiempoServicio: \" + str(tiempoServicio))\n",
    "        print(\"En la cola hay \" + str(len(self.servicioDescarga.queue)))\n",
    "        yield env.timeout(tiempoServicio)\n",
    "        self.servicioDescarga.release(servicio)\n",
    "\n",
    "class Solicitud:\n",
    "    def __init__(self, env, satelite, id):\n",
    "        self.env = env\n",
    "        self.satelite = satelite\n",
    "        self.id = id\n",
    "\n",
    "    def tratarse(self):\n",
    "        return self.satelite.atencion(self.id)"
   ]
  },
  {
   "cell_type": "markdown",
   "metadata": {},
   "source": [
    "Creamos la funcion que se va a encargar de generar las solicitudes. Estas son nuevos procesos que van a intentar usar el servicio del satelite.\n",
    "\n",
    "A medida que van llegando de avanza el tiempo del ambiente."
   ]
  },
  {
   "cell_type": "code",
   "execution_count": null,
   "metadata": {},
   "outputs": [],
   "source": [
    "tiempoEntreArribos = []\n",
    "tiemposAcumulados = []\n",
    "\n",
    "def generarArribos(lambdaArgumento, generador, cantidadArribos, env, satelite):\n",
    "    tiempoAcumulado = 0\n",
    "    id = 0\n",
    "    while (id < cantidadArribos):\n",
    "        tiempo = exponencial(lambdaArgumento, generador)\n",
    "        nuevaSolicitud = Solicitud(env, satelite, id)\n",
    "        id = 1 + id\n",
    "        env.process(nuevaSolicitud.tratarse())\n",
    "        yield env.timeout(tiempo)\n",
    "\n",
    "        tiempoAcumulado += tiempo\n",
    "        tiemposAcumulados.append(tiempoAcumulado)\n",
    "        tiempoEntreArribos.append(tiempo)\n",
    "\n",
    "    print(\"Se crearon un total de \" + str(id) + \" solicitudes\")\n",
    "\n"
   ]
  },
  {
   "cell_type": "markdown",
   "metadata": {},
   "source": [
    "Ejecutamos la simulacion"
   ]
  },
  {
   "cell_type": "code",
   "execution_count": null,
   "metadata": {},
   "outputs": [],
   "source": [
    "env = simpy.Environment()\n",
    "servicioDescarga = simpy.Resource(env, capacity=1)\n",
    "satelite = Satelite(env,servicioDescarga,lambdaServicio,generador)\n",
    "\n",
    "env.process(generarArribos(lambdaArribos, generador, cantidadArribos, env, satelite))\n",
    "\n",
    "env.run()"
   ]
  },
  {
   "cell_type": "markdown",
   "metadata": {},
   "source": [
    "Vemos los resultados"
   ]
  },
  {
   "cell_type": "code",
   "execution_count": null,
   "metadata": {},
   "outputs": [],
   "source": [
    "sns.kdeplot(tiempoEntreArribos,cut=0)"
   ]
  },
  {
   "cell_type": "code",
   "execution_count": null,
   "metadata": {},
   "outputs": [],
   "source": [
    "plt.step(tiemposAcumulados,range(len(tiemposAcumulados)),where= 'post' ,label='λ=' + str(lambdaArribos))\n",
    "plt.legend()\n",
    "plt.show()"
   ]
  }
 ],
 "metadata": {
  "kernelspec": {
   "display_name": "Python 3.9.7 ('base')",
   "language": "python",
   "name": "python3"
  },
  "language_info": {
   "codemirror_mode": {
    "name": "ipython",
    "version": 3
   },
   "file_extension": ".py",
   "mimetype": "text/x-python",
   "name": "python",
   "nbconvert_exporter": "python",
   "pygments_lexer": "ipython3",
   "version": "3.9.7"
  },
  "orig_nbformat": 4,
  "vscode": {
   "interpreter": {
    "hash": "59b23a439ce858f6c48b87cdc3961c05fe34c6c004d414990b7e953144d53d79"
   }
  }
 },
 "nbformat": 4,
 "nbformat_minor": 2
}
