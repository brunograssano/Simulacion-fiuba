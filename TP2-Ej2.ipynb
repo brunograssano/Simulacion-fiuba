{
 "cells": [
  {
   "cell_type": "markdown",
   "metadata": {},
   "source": [
    "## Ejercicio 2\n",
    "Utilizar Simpy para simular una sección del ejercicio 1 a elección"
   ]
  },
  {
   "cell_type": "code",
   "execution_count": 37,
   "metadata": {},
   "outputs": [],
   "source": [
    "from generators import LXM\n",
    "import numpy as np\n",
    "from matplotlib import pyplot as plt\n",
    "import seaborn as sns; sns.set()\n",
    "import simpy\n",
    "import scipy\n",
    "\n",
    "from IPython.display import display\n",
    "from ipywidgets import FloatLogSlider, FloatSlider, interactive\n"
   ]
  },
  {
   "cell_type": "markdown",
   "metadata": {},
   "source": [
    "Parametros iniciales"
   ]
  },
  {
   "cell_type": "code",
   "execution_count": 38,
   "metadata": {},
   "outputs": [],
   "source": [
    "lambdaArribos = 2\n",
    "lambdaServicio = 0.5\n",
    "cantidadArribos = 1000\n",
    "generador = LXM()"
   ]
  },
  {
   "cell_type": "markdown",
   "metadata": {},
   "source": [
    "Vamos a necesitar generar valores exponenciales, los obtenemos con la transformada inversa."
   ]
  },
  {
   "cell_type": "code",
   "execution_count": 39,
   "metadata": {},
   "outputs": [],
   "source": [
    "def exponencial(lambdaArgumento, generador):\n",
    "    uniforme = generador.generar()\n",
    "    return - np.log(1 - uniforme) / lambdaArgumento"
   ]
  },
  {
   "cell_type": "markdown",
   "metadata": {},
   "source": [
    "Definimos el modelo del satelite y la solicitud."
   ]
  },
  {
   "cell_type": "code",
   "execution_count": 40,
   "metadata": {},
   "outputs": [],
   "source": [
    "largoColaEnTiempo = []\n",
    "tiemposDeServicio = []\n",
    "tiemposDeServicioAfectadosPorLaCola = []\n",
    "class Satelite:\n",
    "    def __init__(self, env, servicioDescarga, lambdaArgumento, generador):\n",
    "        self.env = env\n",
    "        self.lambdaArgumento = lambdaArgumento\n",
    "        self.generador = generador\n",
    "        self.servicioDescarga = servicioDescarga\n",
    "\n",
    "    def atencion(self, id):\n",
    "        tiempoAtencion = exponencial(self.lambdaArgumento, self.generador)\n",
    "        servicio = self.servicioDescarga.request()\n",
    "        yield servicio\n",
    "\n",
    "        #print(\"Satelite en uso por la solicitud con id \" + str(id))\n",
    "        N = 1\n",
    "        largoCola = len(self.servicioDescarga.queue)\n",
    "\n",
    "        if largoCola != 0:\n",
    "            N = largoCola\n",
    "        tiempoServicio = tiempoAtencion / N\n",
    "        #print(\"El tiempo de atencion obtenido es: \" + str(tiempoAtencion)  + \", tiempoServicio: \" + str(tiempoServicio))\n",
    "        #print(\"En la cola hay \" + str(len(self.servicioDescarga.queue)))\n",
    "\n",
    "        largoColaEnTiempo.append(largoCola)\n",
    "        tiemposDeServicio.append(tiempoAtencion)\n",
    "        tiemposDeServicioAfectadosPorLaCola.append(tiempoServicio)\n",
    "\n",
    "        yield env.timeout(tiempoServicio)\n",
    "        self.servicioDescarga.release(servicio)\n",
    "\n",
    "class Solicitud:\n",
    "    def __init__(self, env, satelite, id):\n",
    "        self.env = env\n",
    "        self.satelite = satelite\n",
    "        self.id = id\n",
    "\n",
    "    def tratarse(self):\n",
    "        return self.satelite.atencion(self.id)"
   ]
  },
  {
   "cell_type": "markdown",
   "metadata": {},
   "source": [
    "Creamos la funcion que se va a encargar de generar las solicitudes. Estas son nuevos procesos que van a intentar usar el servicio del satelite.\n",
    "\n",
    "A medida que van llegando de avanza el tiempo del ambiente."
   ]
  },
  {
   "cell_type": "code",
   "execution_count": 41,
   "metadata": {},
   "outputs": [],
   "source": [
    "tiempoEntreArribos = []\n",
    "tiemposAcumulados = []\n",
    "\n",
    "def generarArribos(lambdaArgumento, generador, cantidadArribos, env, satelite):\n",
    "    tiempoAcumulado = 0\n",
    "    id = 0\n",
    "    while (id < cantidadArribos):\n",
    "        tiempo = exponencial(lambdaArgumento, generador)\n",
    "        nuevaSolicitud = Solicitud(env, satelite, id)\n",
    "        id = 1 + id\n",
    "        env.process(nuevaSolicitud.tratarse())\n",
    "        yield env.timeout(tiempo)\n",
    "\n",
    "        tiempoAcumulado += tiempo\n",
    "        tiemposAcumulados.append(tiempoAcumulado)\n",
    "        tiempoEntreArribos.append(tiempo)\n",
    "\n",
    "    #print(\"Se crearon un total de \" + str(id) + \" solicitudes\")\n",
    "\n"
   ]
  },
  {
   "cell_type": "markdown",
   "metadata": {},
   "source": [
    "Establecemos las configuraciones iniciales y ya podemos simular..."
   ]
  },
  {
   "cell_type": "code",
   "execution_count": 42,
   "metadata": {},
   "outputs": [],
   "source": [
    "env = simpy.Environment()\n",
    "def explore_config(lambdaArribos, lambdaServicio, cantidadArribos=100_000):\n",
    "    servicioDescarga = simpy.Resource(env, capacity=1)\n",
    "    satelite = Satelite(env,servicioDescarga,lambdaServicio,generador)\n",
    "\n",
    "    env.process(generarArribos(lambdaArribos, generador, cantidadArribos, env, satelite))\n",
    "\n",
    "    env.run()\n",
    "\n",
    "    f, axis = plt.subplots(\n",
    "        nrows=2,\n",
    "        ncols=3,\n",
    "        dpi=100,\n",
    "        figsize=(24, 8),\n",
    "        gridspec_kw={\"width_ratios\": [1, 1, 2]},\n",
    "    )\n",
    "\n",
    "    axis[0,0].set_title(\"Densidad del tiempo entre arribos\")\n",
    "    p = sns.kdeplot(tiempoEntreArribos,cut=0,ax=axis[0,0])\n",
    "\n",
    "\n",
    "    axis[0,1].step(tiemposAcumulados,range(len(tiemposAcumulados)),where= 'post' ,label='λ=' + str(lambdaArribos))\n",
    "    axis[0,1].legend()\n",
    "    axis[0,1].set_title(\"Arribos a lo largo del tiempo - Poisson\")\n",
    "\n",
    "\n",
    "    axis[0,2].set_title(\"Comportamiento del largo de la cola\")\n",
    "    p = sns.kdeplot(largoColaEnTiempo,cut=0,ax=axis[0,2])\n",
    "\n",
    "    x,y = p.get_lines()[0].get_data()\n",
    "\n",
    "    cdf = scipy.integrate.cumtrapz(y, x, initial=0)\n",
    "    medio = np.abs(cdf-0.5).argmin()\n",
    "\n",
    "    x_mediana = x[medio]\n",
    "    y_mediana = y[medio]\n",
    "\n",
    "    axis[0,2].vlines(x_mediana, 0, y_mediana)\n",
    "    axis[0,2].set_title(\"Comportamiento del largo de la cola\")\n",
    "    axis[0,2].set_xlabel(\"Largo de la cola\")\n",
    "    axis[0,2].set_ylabel(\"Probabilidad\")\n",
    "\n",
    "    axis[1,0].set_title(\"Densidad del tiempo de servicio\")\n",
    "    p = sns.kdeplot(tiemposDeServicio,cut=0, ax=axis[1,0])\n",
    "\n",
    "\n",
    "    axis[1,1].set_title(\"Densidad del tiempo de servicio afectada por la cola\")\n",
    "    p = sns.kdeplot(tiemposDeServicioAfectadosPorLaCola,cut=0,ax=axis[1,1])\n",
    "\n",
    "    f.suptitle(f\"N={cantidadArribos}  $\\lambda$ arribos={lambdaArribos}  $\\lambda$ servicio={lambdaServicio}\")\n",
    "\n",
    "    plt.show()\n",
    "    plt.close()"
   ]
  },
  {
   "cell_type": "code",
   "execution_count": 43,
   "metadata": {},
   "outputs": [
    {
     "data": {
      "application/vnd.jupyter.widget-view+json": {
       "model_id": "cbaf2c798c6b4f869fb6a778f4f65686",
       "version_major": 2,
       "version_minor": 0
      },
      "text/plain": [
       "interactive(children=(FloatSlider(value=2.0, description='λ Arribos', max=10.0, min=0.1), FloatSlider(value=0.…"
      ]
     },
     "metadata": {},
     "output_type": "display_data"
    }
   ],
   "source": [
    "inter = interactive(\n",
    "    explore_config,\n",
    "    {'manual': True},\n",
    "    lambdaArribos=FloatSlider(value=2, min=0.1, max=10, step=0.1, description=\"λ Arribos\"),\n",
    "    lambdaServicio=FloatSlider(value=0.5, min=0.01, max=10, step=0.01, description=\"λ Servicio\"),\n",
    "    cantidadArribos=FloatLogSlider(value=1_000, base=10, min=2, max=8, step=1, description=\"Iterations\", readout_format=\"d\"),\n",
    ")\n",
    "display(inter)"
   ]
  },
  {
   "cell_type": "code",
   "execution_count": 44,
   "metadata": {},
   "outputs": [],
   "source": [
    "# Para reiniciar la historia\n",
    "tiempoEntreArribos = []\n",
    "tiemposAcumulados = []\n",
    "largoColaEnTiempo = []\n",
    "tiemposDeServicio = []\n",
    "tiemposDeServicioAfectadosPorLaCola = []"
   ]
  }
 ],
 "metadata": {
  "kernelspec": {
   "display_name": "Python 3.9.7 ('base')",
   "language": "python",
   "name": "python3"
  },
  "language_info": {
   "codemirror_mode": {
    "name": "ipython",
    "version": 3
   },
   "file_extension": ".py",
   "mimetype": "text/x-python",
   "name": "python",
   "nbconvert_exporter": "python",
   "pygments_lexer": "ipython3",
   "version": "3.9.7"
  },
  "orig_nbformat": 4,
  "vscode": {
   "interpreter": {
    "hash": "59b23a439ce858f6c48b87cdc3961c05fe34c6c004d414990b7e953144d53d79"
   }
  }
 },
 "nbformat": 4,
 "nbformat_minor": 2
}
