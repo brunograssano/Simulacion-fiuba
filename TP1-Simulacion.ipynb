{
 "cells": [
  {
   "cell_type": "markdown",
   "metadata": {},
   "source": [
    "# TP Simulacion  Grupo 4\n"
   ]
  },
  {
   "cell_type": "code",
   "execution_count": null,
   "metadata": {},
   "outputs": [],
   "source": [
    "import numpy as np"
   ]
  },
  {
   "cell_type": "markdown",
   "metadata": {},
   "source": [
    "## Ejercicio 1"
   ]
  },
  {
   "cell_type": "markdown",
   "metadata": {},
   "source": [
    "Sobre el generador de números al azar propuesto en el paper asignado, se pide:\n",
    "* Implementarlo en función de lo especificado en el documento."
   ]
  },
  {
   "cell_type": "code",
   "execution_count": null,
   "metadata": {},
   "outputs": [],
   "source": []
  },
  {
   "cell_type": "markdown",
   "metadata": {},
   "source": [
    "*  Modificarlo (si aplica) para obtener números al azar entre 0 y 1"
   ]
  },
  {
   "cell_type": "code",
   "execution_count": null,
   "metadata": {},
   "outputs": [],
   "source": []
  },
  {
   "cell_type": "markdown",
   "metadata": {},
   "source": [
    "* Realizar los gráficos que considere adecuados para mostrar las distribuciones de números al azar \n",
    "generados en ambos casos.\n"
   ]
  },
  {
   "cell_type": "code",
   "execution_count": null,
   "metadata": {},
   "outputs": [],
   "source": []
  },
  {
   "cell_type": "markdown",
   "metadata": {},
   "source": [
    "## Ejercicio 2\n",
    "* Proponer, y realizar, al menos 2 tests para evaluar su comportamiento.\n",
    "* Evaluar e interpretar los resultados de cada uno para distintos tamaños de muestras."
   ]
  },
  {
   "cell_type": "code",
   "execution_count": null,
   "metadata": {},
   "outputs": [],
   "source": []
  },
  {
   "cell_type": "markdown",
   "metadata": {},
   "source": [
    "## Ejercicio 3\n",
    "Se desea generar puntos al azar con distribución uniforme dentro del área descripta en el gráfico utilizando los \n",
    "siguientes generadores de números al azar:\n",
    "\n",
    "1. Generadores de números al azar con distribución uniforme, provistos por el lenguaje elegido para resolver el tp.\n",
    "2. Alguno de los generadores de números al azar implementados en el ejercicio 1. \n",
    "3. Calcular, para los dos puntos anteriores, el factor de rendimiento del método.\n",
    "\n",
    "# ver de agregar la imagen"
   ]
  },
  {
   "cell_type": "code",
   "execution_count": null,
   "metadata": {},
   "outputs": [],
   "source": []
  },
  {
   "cell_type": "markdown",
   "metadata": {},
   "source": [
    "## Ejercicio 4"
   ]
  },
  {
   "cell_type": "code",
   "execution_count": null,
   "metadata": {},
   "outputs": [],
   "source": []
  },
  {
   "cell_type": "markdown",
   "metadata": {},
   "source": [
    "## Ejercicio opcional\n",
    "Comparar los resultados obtenidos en los ejercicios 1 a 5 utilizando el generador de números al azar propuesto en el paper \n",
    "asignado, con los resultados que se obtendrían con un Generador Congruencial Lineal de módulo 232, multiplicador \n",
    "1013904223, incremento de 1664525 y semilla igual a la parte entera del promedio de los números de padrón de los \n",
    "integrantes del grupo\n"
   ]
  },
  {
   "cell_type": "code",
   "execution_count": null,
   "metadata": {},
   "outputs": [],
   "source": [
    "padrones = np.array([94551,98153,103735,103855])\n",
    "semilla = round(np.mean(padrones))"
   ]
  },
  {
   "cell_type": "markdown",
   "metadata": {},
   "source": [
    "De semilla tenemos el valor:"
   ]
  },
  {
   "cell_type": "code",
   "execution_count": null,
   "metadata": {},
   "outputs": [],
   "source": [
    "print(semilla)"
   ]
  },
  {
   "cell_type": "code",
   "execution_count": null,
   "metadata": {},
   "outputs": [],
   "source": [
    "def generadorCongruencialLineal(valorAnterior):\n",
    "    modulo = 232\n",
    "    incremento = 1664525\n",
    "    multiplicador = 1013904223\n",
    "    return ( multiplicador * valorAnterior + incremento) % modulo"
   ]
  },
  {
   "cell_type": "code",
   "execution_count": null,
   "metadata": {},
   "outputs": [],
   "source": [
    "valorRandom = semilla\n",
    "for i in range(1,16):\n",
    "    valorRandom = generadorCongruencialLineal(valorRandom)\n",
    "    print(valorRandom)\n",
    "    "
   ]
  }
 ],
 "metadata": {
  "interpreter": {
   "hash": "b3bf1617c682241bc3df456a60a8234b0d827c18db2d7bcb885cf0391e2ea511"
  },
  "kernelspec": {
   "display_name": "Python 3.8.5 32-bit",
   "language": "python",
   "name": "python3"
  },
  "language_info": {
   "codemirror_mode": {
    "name": "ipython",
    "version": 3
   },
   "file_extension": ".py",
   "mimetype": "text/x-python",
   "name": "python",
   "nbconvert_exporter": "python",
   "pygments_lexer": "ipython3",
   "version": "3.9.7"
  },
  "orig_nbformat": 4
 },
 "nbformat": 4,
 "nbformat_minor": 2
}
